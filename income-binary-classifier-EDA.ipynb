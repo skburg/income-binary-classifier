{
 "cells": [
  {
   "cell_type": "markdown",
   "metadata": {},
   "source": [
    "# US Income Prediction\n",
    "\n",
    "### The ultimate goal of this project is to predict whether someone’s income will be above or below $50,000 based on information about them like their name and education. This notebook is primarily devoted to Exploratory Data Analysis (EDA) to better understand the data and help explain what may be drivers of high income. It also helps determine any feature engineering like grouping. \n",
    "\n",
    "The modeling work will be done later in another notebook in this project. A number of different models (logistic regression, KNN, decision trees) will be used to find the model that makes the best predictions. \n",
    "\n",
    "This data set is based on the income data set at https://archive.ics.uci.edu/ml/datasets/census+income "
   ]
  },
  {
   "cell_type": "markdown",
   "metadata": {},
   "source": [
    "# Contents\n",
    "1. Proprocessing\n",
    "1. Function Definitions\n",
    "1. Exploratory Data Analysis\n",
    "    1. General EDA\n",
    "    1. Education\n",
    "    1. Age\n",
    "    1. Hours per Week\n",
    "    1. Gender\n",
    "    1. Marital Status\n",
    "    1. Relationship\n",
    "    1. Race\n",
    "    1. Native Country\n",
    "    1. Occupation\n",
    "    1. Workclass\n",
    "    1. Capital Gain & Capital Loss\n",
    "    1. Final Weight"
   ]
  },
  {
   "cell_type": "markdown",
   "metadata": {},
   "source": [
    "# 1.  Preprocessing"
   ]
  },
  {
   "cell_type": "code",
   "execution_count": 1,
   "metadata": {},
   "outputs": [],
   "source": [
    "import pandas as pd\n",
    "import numpy as np\n",
    "import seaborn as sns\n",
    "\n",
    "from sklearn import preprocessing, metrics\n",
    "from sklearn.model_selection import train_test_split\n",
    "\n",
    "import matplotlib.pyplot as plt\n",
    "%matplotlib inline"
   ]
  },
  {
   "cell_type": "markdown",
   "metadata": {},
   "source": [
    "Import data and start to get a feel for it"
   ]
  },
  {
   "cell_type": "code",
   "execution_count": 2,
   "metadata": {},
   "outputs": [
    {
     "data": {
      "text/html": [
       "<div>\n",
       "<style scoped>\n",
       "    .dataframe tbody tr th:only-of-type {\n",
       "        vertical-align: middle;\n",
       "    }\n",
       "\n",
       "    .dataframe tbody tr th {\n",
       "        vertical-align: top;\n",
       "    }\n",
       "\n",
       "    .dataframe thead th {\n",
       "        text-align: right;\n",
       "    }\n",
       "</style>\n",
       "<table border=\"1\" class=\"dataframe\">\n",
       "  <thead>\n",
       "    <tr style=\"text-align: right;\">\n",
       "      <th></th>\n",
       "      <th>Age</th>\n",
       "      <th>Workclass</th>\n",
       "      <th>Final-Weight</th>\n",
       "      <th>Education</th>\n",
       "      <th>Education-Num</th>\n",
       "      <th>Marital-Status</th>\n",
       "      <th>Occupation</th>\n",
       "      <th>Relationship</th>\n",
       "      <th>Race</th>\n",
       "      <th>Sex</th>\n",
       "      <th>Capital-Gain</th>\n",
       "      <th>Capital-Loss</th>\n",
       "      <th>Hours-per-week</th>\n",
       "      <th>Native-Country</th>\n",
       "      <th>Income</th>\n",
       "    </tr>\n",
       "  </thead>\n",
       "  <tbody>\n",
       "    <tr>\n",
       "      <th>0</th>\n",
       "      <td>39</td>\n",
       "      <td>State-gov</td>\n",
       "      <td>77516</td>\n",
       "      <td>Bachelors</td>\n",
       "      <td>13</td>\n",
       "      <td>Never-married</td>\n",
       "      <td>Adm-clerical</td>\n",
       "      <td>Not-in-family</td>\n",
       "      <td>White</td>\n",
       "      <td>Male</td>\n",
       "      <td>2174</td>\n",
       "      <td>0</td>\n",
       "      <td>40</td>\n",
       "      <td>United-States</td>\n",
       "      <td>&lt;=50K</td>\n",
       "    </tr>\n",
       "    <tr>\n",
       "      <th>1</th>\n",
       "      <td>50</td>\n",
       "      <td>Self-emp-not-inc</td>\n",
       "      <td>83311</td>\n",
       "      <td>Bachelors</td>\n",
       "      <td>13</td>\n",
       "      <td>Married-civ-spouse</td>\n",
       "      <td>Exec-managerial</td>\n",
       "      <td>Husband</td>\n",
       "      <td>White</td>\n",
       "      <td>Male</td>\n",
       "      <td>0</td>\n",
       "      <td>0</td>\n",
       "      <td>13</td>\n",
       "      <td>United-States</td>\n",
       "      <td>&lt;=50K</td>\n",
       "    </tr>\n",
       "    <tr>\n",
       "      <th>2</th>\n",
       "      <td>38</td>\n",
       "      <td>Private</td>\n",
       "      <td>215646</td>\n",
       "      <td>HS-grad</td>\n",
       "      <td>9</td>\n",
       "      <td>Divorced</td>\n",
       "      <td>Handlers-cleaners</td>\n",
       "      <td>Not-in-family</td>\n",
       "      <td>White</td>\n",
       "      <td>Male</td>\n",
       "      <td>0</td>\n",
       "      <td>0</td>\n",
       "      <td>40</td>\n",
       "      <td>United-States</td>\n",
       "      <td>&lt;=50K</td>\n",
       "    </tr>\n",
       "    <tr>\n",
       "      <th>3</th>\n",
       "      <td>53</td>\n",
       "      <td>Private</td>\n",
       "      <td>234721</td>\n",
       "      <td>11th</td>\n",
       "      <td>7</td>\n",
       "      <td>Married-civ-spouse</td>\n",
       "      <td>Handlers-cleaners</td>\n",
       "      <td>Husband</td>\n",
       "      <td>Black</td>\n",
       "      <td>Male</td>\n",
       "      <td>0</td>\n",
       "      <td>0</td>\n",
       "      <td>40</td>\n",
       "      <td>United-States</td>\n",
       "      <td>&lt;=50K</td>\n",
       "    </tr>\n",
       "    <tr>\n",
       "      <th>4</th>\n",
       "      <td>28</td>\n",
       "      <td>Private</td>\n",
       "      <td>338409</td>\n",
       "      <td>Bachelors</td>\n",
       "      <td>13</td>\n",
       "      <td>Married-civ-spouse</td>\n",
       "      <td>Prof-specialty</td>\n",
       "      <td>Wife</td>\n",
       "      <td>Black</td>\n",
       "      <td>Female</td>\n",
       "      <td>0</td>\n",
       "      <td>0</td>\n",
       "      <td>40</td>\n",
       "      <td>Cuba</td>\n",
       "      <td>&lt;=50K</td>\n",
       "    </tr>\n",
       "    <tr>\n",
       "      <th>5</th>\n",
       "      <td>37</td>\n",
       "      <td>Private</td>\n",
       "      <td>284582</td>\n",
       "      <td>Masters</td>\n",
       "      <td>14</td>\n",
       "      <td>Married-civ-spouse</td>\n",
       "      <td>Exec-managerial</td>\n",
       "      <td>Wife</td>\n",
       "      <td>White</td>\n",
       "      <td>Female</td>\n",
       "      <td>0</td>\n",
       "      <td>0</td>\n",
       "      <td>40</td>\n",
       "      <td>United-States</td>\n",
       "      <td>&lt;=50K</td>\n",
       "    </tr>\n",
       "    <tr>\n",
       "      <th>6</th>\n",
       "      <td>49</td>\n",
       "      <td>Private</td>\n",
       "      <td>160187</td>\n",
       "      <td>9th</td>\n",
       "      <td>5</td>\n",
       "      <td>Married-spouse-absent</td>\n",
       "      <td>Other-service</td>\n",
       "      <td>Not-in-family</td>\n",
       "      <td>Black</td>\n",
       "      <td>Female</td>\n",
       "      <td>0</td>\n",
       "      <td>0</td>\n",
       "      <td>16</td>\n",
       "      <td>Jamaica</td>\n",
       "      <td>&lt;=50K</td>\n",
       "    </tr>\n",
       "    <tr>\n",
       "      <th>7</th>\n",
       "      <td>52</td>\n",
       "      <td>Self-emp-not-inc</td>\n",
       "      <td>209642</td>\n",
       "      <td>HS-grad</td>\n",
       "      <td>9</td>\n",
       "      <td>Married-civ-spouse</td>\n",
       "      <td>Exec-managerial</td>\n",
       "      <td>Husband</td>\n",
       "      <td>White</td>\n",
       "      <td>Male</td>\n",
       "      <td>0</td>\n",
       "      <td>0</td>\n",
       "      <td>45</td>\n",
       "      <td>United-States</td>\n",
       "      <td>&gt;50K</td>\n",
       "    </tr>\n",
       "    <tr>\n",
       "      <th>8</th>\n",
       "      <td>31</td>\n",
       "      <td>Private</td>\n",
       "      <td>45781</td>\n",
       "      <td>Masters</td>\n",
       "      <td>14</td>\n",
       "      <td>Never-married</td>\n",
       "      <td>Prof-specialty</td>\n",
       "      <td>Not-in-family</td>\n",
       "      <td>White</td>\n",
       "      <td>Female</td>\n",
       "      <td>14084</td>\n",
       "      <td>0</td>\n",
       "      <td>50</td>\n",
       "      <td>United-States</td>\n",
       "      <td>&gt;50K</td>\n",
       "    </tr>\n",
       "    <tr>\n",
       "      <th>9</th>\n",
       "      <td>42</td>\n",
       "      <td>Private</td>\n",
       "      <td>159449</td>\n",
       "      <td>Bachelors</td>\n",
       "      <td>13</td>\n",
       "      <td>Married-civ-spouse</td>\n",
       "      <td>Exec-managerial</td>\n",
       "      <td>Husband</td>\n",
       "      <td>White</td>\n",
       "      <td>Male</td>\n",
       "      <td>5178</td>\n",
       "      <td>0</td>\n",
       "      <td>40</td>\n",
       "      <td>United-States</td>\n",
       "      <td>&gt;50K</td>\n",
       "    </tr>\n",
       "    <tr>\n",
       "      <th>10</th>\n",
       "      <td>37</td>\n",
       "      <td>Private</td>\n",
       "      <td>280464</td>\n",
       "      <td>Some-college</td>\n",
       "      <td>10</td>\n",
       "      <td>Married-civ-spouse</td>\n",
       "      <td>Exec-managerial</td>\n",
       "      <td>Husband</td>\n",
       "      <td>Black</td>\n",
       "      <td>Male</td>\n",
       "      <td>0</td>\n",
       "      <td>0</td>\n",
       "      <td>80</td>\n",
       "      <td>United-States</td>\n",
       "      <td>&gt;50K</td>\n",
       "    </tr>\n",
       "    <tr>\n",
       "      <th>11</th>\n",
       "      <td>30</td>\n",
       "      <td>State-gov</td>\n",
       "      <td>141297</td>\n",
       "      <td>Bachelors</td>\n",
       "      <td>13</td>\n",
       "      <td>Married-civ-spouse</td>\n",
       "      <td>Prof-specialty</td>\n",
       "      <td>Husband</td>\n",
       "      <td>Asian-Pac-Islander</td>\n",
       "      <td>Male</td>\n",
       "      <td>0</td>\n",
       "      <td>0</td>\n",
       "      <td>40</td>\n",
       "      <td>India</td>\n",
       "      <td>&gt;50K</td>\n",
       "    </tr>\n",
       "    <tr>\n",
       "      <th>12</th>\n",
       "      <td>23</td>\n",
       "      <td>Private</td>\n",
       "      <td>122272</td>\n",
       "      <td>Bachelors</td>\n",
       "      <td>13</td>\n",
       "      <td>Never-married</td>\n",
       "      <td>Adm-clerical</td>\n",
       "      <td>Own-child</td>\n",
       "      <td>White</td>\n",
       "      <td>Female</td>\n",
       "      <td>0</td>\n",
       "      <td>0</td>\n",
       "      <td>30</td>\n",
       "      <td>United-States</td>\n",
       "      <td>&lt;=50K</td>\n",
       "    </tr>\n",
       "    <tr>\n",
       "      <th>13</th>\n",
       "      <td>32</td>\n",
       "      <td>Private</td>\n",
       "      <td>205019</td>\n",
       "      <td>Assoc-acdm</td>\n",
       "      <td>12</td>\n",
       "      <td>Never-married</td>\n",
       "      <td>Sales</td>\n",
       "      <td>Not-in-family</td>\n",
       "      <td>Black</td>\n",
       "      <td>Male</td>\n",
       "      <td>0</td>\n",
       "      <td>0</td>\n",
       "      <td>50</td>\n",
       "      <td>United-States</td>\n",
       "      <td>&lt;=50K</td>\n",
       "    </tr>\n",
       "    <tr>\n",
       "      <th>14</th>\n",
       "      <td>40</td>\n",
       "      <td>Private</td>\n",
       "      <td>121772</td>\n",
       "      <td>Assoc-voc</td>\n",
       "      <td>11</td>\n",
       "      <td>Married-civ-spouse</td>\n",
       "      <td>Craft-repair</td>\n",
       "      <td>Husband</td>\n",
       "      <td>Asian-Pac-Islander</td>\n",
       "      <td>Male</td>\n",
       "      <td>0</td>\n",
       "      <td>0</td>\n",
       "      <td>40</td>\n",
       "      <td>?</td>\n",
       "      <td>&gt;50K</td>\n",
       "    </tr>\n",
       "  </tbody>\n",
       "</table>\n",
       "</div>"
      ],
      "text/plain": [
       "    Age         Workclass  Final-Weight     Education  Education-Num  \\\n",
       "0    39         State-gov         77516     Bachelors             13   \n",
       "1    50  Self-emp-not-inc         83311     Bachelors             13   \n",
       "2    38           Private        215646       HS-grad              9   \n",
       "3    53           Private        234721          11th              7   \n",
       "4    28           Private        338409     Bachelors             13   \n",
       "5    37           Private        284582       Masters             14   \n",
       "6    49           Private        160187           9th              5   \n",
       "7    52  Self-emp-not-inc        209642       HS-grad              9   \n",
       "8    31           Private         45781       Masters             14   \n",
       "9    42           Private        159449     Bachelors             13   \n",
       "10   37           Private        280464  Some-college             10   \n",
       "11   30         State-gov        141297     Bachelors             13   \n",
       "12   23           Private        122272     Bachelors             13   \n",
       "13   32           Private        205019    Assoc-acdm             12   \n",
       "14   40           Private        121772     Assoc-voc             11   \n",
       "\n",
       "           Marital-Status         Occupation   Relationship  \\\n",
       "0           Never-married       Adm-clerical  Not-in-family   \n",
       "1      Married-civ-spouse    Exec-managerial        Husband   \n",
       "2                Divorced  Handlers-cleaners  Not-in-family   \n",
       "3      Married-civ-spouse  Handlers-cleaners        Husband   \n",
       "4      Married-civ-spouse     Prof-specialty           Wife   \n",
       "5      Married-civ-spouse    Exec-managerial           Wife   \n",
       "6   Married-spouse-absent      Other-service  Not-in-family   \n",
       "7      Married-civ-spouse    Exec-managerial        Husband   \n",
       "8           Never-married     Prof-specialty  Not-in-family   \n",
       "9      Married-civ-spouse    Exec-managerial        Husband   \n",
       "10     Married-civ-spouse    Exec-managerial        Husband   \n",
       "11     Married-civ-spouse     Prof-specialty        Husband   \n",
       "12          Never-married       Adm-clerical      Own-child   \n",
       "13          Never-married              Sales  Not-in-family   \n",
       "14     Married-civ-spouse       Craft-repair        Husband   \n",
       "\n",
       "                  Race     Sex  Capital-Gain  Capital-Loss  Hours-per-week  \\\n",
       "0                White    Male          2174             0              40   \n",
       "1                White    Male             0             0              13   \n",
       "2                White    Male             0             0              40   \n",
       "3                Black    Male             0             0              40   \n",
       "4                Black  Female             0             0              40   \n",
       "5                White  Female             0             0              40   \n",
       "6                Black  Female             0             0              16   \n",
       "7                White    Male             0             0              45   \n",
       "8                White  Female         14084             0              50   \n",
       "9                White    Male          5178             0              40   \n",
       "10               Black    Male             0             0              80   \n",
       "11  Asian-Pac-Islander    Male             0             0              40   \n",
       "12               White  Female             0             0              30   \n",
       "13               Black    Male             0             0              50   \n",
       "14  Asian-Pac-Islander    Male             0             0              40   \n",
       "\n",
       "   Native-Country Income  \n",
       "0   United-States  <=50K  \n",
       "1   United-States  <=50K  \n",
       "2   United-States  <=50K  \n",
       "3   United-States  <=50K  \n",
       "4            Cuba  <=50K  \n",
       "5   United-States  <=50K  \n",
       "6         Jamaica  <=50K  \n",
       "7   United-States   >50K  \n",
       "8   United-States   >50K  \n",
       "9   United-States   >50K  \n",
       "10  United-States   >50K  \n",
       "11          India   >50K  \n",
       "12  United-States  <=50K  \n",
       "13  United-States  <=50K  \n",
       "14              ?   >50K  "
      ]
     },
     "execution_count": 2,
     "metadata": {},
     "output_type": "execute_result"
    }
   ],
   "source": [
    "col_names = ['Age', 'Workclass', 'Final-Weight', 'Education', 'Education-Num', 'Marital-Status', \n",
    "             'Occupation', 'Relationship', 'Race', 'Sex', 'Capital-Gain', 'Capital-Loss', \n",
    "             'Hours-per-week', 'Native-Country', 'Income']\n",
    "train = pd.read_csv('adult-data.csv', names = col_names, skipinitialspace = True)\n",
    "train.head(15)"
   ]
  },
  {
   "cell_type": "code",
   "execution_count": 3,
   "metadata": {},
   "outputs": [
    {
     "name": "stdout",
     "output_type": "stream",
     "text": [
      "<class 'pandas.core.frame.DataFrame'>\n",
      "RangeIndex: 32561 entries, 0 to 32560\n",
      "Data columns (total 15 columns):\n",
      " #   Column          Non-Null Count  Dtype \n",
      "---  ------          --------------  ----- \n",
      " 0   Age             32561 non-null  int64 \n",
      " 1   Workclass       32561 non-null  object\n",
      " 2   Final-Weight    32561 non-null  int64 \n",
      " 3   Education       32561 non-null  object\n",
      " 4   Education-Num   32561 non-null  int64 \n",
      " 5   Marital-Status  32561 non-null  object\n",
      " 6   Occupation      32561 non-null  object\n",
      " 7   Relationship    32561 non-null  object\n",
      " 8   Race            32561 non-null  object\n",
      " 9   Sex             32561 non-null  object\n",
      " 10  Capital-Gain    32561 non-null  int64 \n",
      " 11  Capital-Loss    32561 non-null  int64 \n",
      " 12  Hours-per-week  32561 non-null  int64 \n",
      " 13  Native-Country  32561 non-null  object\n",
      " 14  Income          32561 non-null  object\n",
      "dtypes: int64(6), object(9)\n",
      "memory usage: 3.7+ MB\n",
      "None\n"
     ]
    }
   ],
   "source": [
    "print(train.info())"
   ]
  },
  {
   "cell_type": "code",
   "execution_count": 4,
   "metadata": {},
   "outputs": [
    {
     "name": "stdout",
     "output_type": "stream",
     "text": [
      "Age                  73\n",
      "Workclass             9\n",
      "Final-Weight      21648\n",
      "Education            16\n",
      "Education-Num        16\n",
      "Marital-Status        7\n",
      "Occupation           15\n",
      "Relationship          6\n",
      "Race                  5\n",
      "Sex                   2\n",
      "Capital-Gain        119\n",
      "Capital-Loss         92\n",
      "Hours-per-week       94\n",
      "Native-Country       42\n",
      "Income                2\n",
      "dtype: int64\n"
     ]
    }
   ],
   "source": [
    "print(train.nunique())"
   ]
  },
  {
   "cell_type": "code",
   "execution_count": 5,
   "metadata": {},
   "outputs": [
    {
     "data": {
      "text/html": [
       "<div>\n",
       "<style scoped>\n",
       "    .dataframe tbody tr th:only-of-type {\n",
       "        vertical-align: middle;\n",
       "    }\n",
       "\n",
       "    .dataframe tbody tr th {\n",
       "        vertical-align: top;\n",
       "    }\n",
       "\n",
       "    .dataframe thead th {\n",
       "        text-align: right;\n",
       "    }\n",
       "</style>\n",
       "<table border=\"1\" class=\"dataframe\">\n",
       "  <thead>\n",
       "    <tr style=\"text-align: right;\">\n",
       "      <th></th>\n",
       "      <th>Age</th>\n",
       "      <th>Final-Weight</th>\n",
       "      <th>Education-Num</th>\n",
       "      <th>Capital-Gain</th>\n",
       "      <th>Capital-Loss</th>\n",
       "      <th>Hours-per-week</th>\n",
       "    </tr>\n",
       "  </thead>\n",
       "  <tbody>\n",
       "    <tr>\n",
       "      <th>count</th>\n",
       "      <td>32561.000000</td>\n",
       "      <td>3.256100e+04</td>\n",
       "      <td>32561.000000</td>\n",
       "      <td>32561.000000</td>\n",
       "      <td>32561.000000</td>\n",
       "      <td>32561.000000</td>\n",
       "    </tr>\n",
       "    <tr>\n",
       "      <th>mean</th>\n",
       "      <td>38.581647</td>\n",
       "      <td>1.897784e+05</td>\n",
       "      <td>10.080679</td>\n",
       "      <td>1077.648844</td>\n",
       "      <td>87.303830</td>\n",
       "      <td>40.437456</td>\n",
       "    </tr>\n",
       "    <tr>\n",
       "      <th>std</th>\n",
       "      <td>13.640433</td>\n",
       "      <td>1.055500e+05</td>\n",
       "      <td>2.572720</td>\n",
       "      <td>7385.292085</td>\n",
       "      <td>402.960219</td>\n",
       "      <td>12.347429</td>\n",
       "    </tr>\n",
       "    <tr>\n",
       "      <th>min</th>\n",
       "      <td>17.000000</td>\n",
       "      <td>1.228500e+04</td>\n",
       "      <td>1.000000</td>\n",
       "      <td>0.000000</td>\n",
       "      <td>0.000000</td>\n",
       "      <td>1.000000</td>\n",
       "    </tr>\n",
       "    <tr>\n",
       "      <th>25%</th>\n",
       "      <td>28.000000</td>\n",
       "      <td>1.178270e+05</td>\n",
       "      <td>9.000000</td>\n",
       "      <td>0.000000</td>\n",
       "      <td>0.000000</td>\n",
       "      <td>40.000000</td>\n",
       "    </tr>\n",
       "    <tr>\n",
       "      <th>50%</th>\n",
       "      <td>37.000000</td>\n",
       "      <td>1.783560e+05</td>\n",
       "      <td>10.000000</td>\n",
       "      <td>0.000000</td>\n",
       "      <td>0.000000</td>\n",
       "      <td>40.000000</td>\n",
       "    </tr>\n",
       "    <tr>\n",
       "      <th>75%</th>\n",
       "      <td>48.000000</td>\n",
       "      <td>2.370510e+05</td>\n",
       "      <td>12.000000</td>\n",
       "      <td>0.000000</td>\n",
       "      <td>0.000000</td>\n",
       "      <td>45.000000</td>\n",
       "    </tr>\n",
       "    <tr>\n",
       "      <th>max</th>\n",
       "      <td>90.000000</td>\n",
       "      <td>1.484705e+06</td>\n",
       "      <td>16.000000</td>\n",
       "      <td>99999.000000</td>\n",
       "      <td>4356.000000</td>\n",
       "      <td>99.000000</td>\n",
       "    </tr>\n",
       "  </tbody>\n",
       "</table>\n",
       "</div>"
      ],
      "text/plain": [
       "                Age  Final-Weight  Education-Num  Capital-Gain  Capital-Loss  \\\n",
       "count  32561.000000  3.256100e+04   32561.000000  32561.000000  32561.000000   \n",
       "mean      38.581647  1.897784e+05      10.080679   1077.648844     87.303830   \n",
       "std       13.640433  1.055500e+05       2.572720   7385.292085    402.960219   \n",
       "min       17.000000  1.228500e+04       1.000000      0.000000      0.000000   \n",
       "25%       28.000000  1.178270e+05       9.000000      0.000000      0.000000   \n",
       "50%       37.000000  1.783560e+05      10.000000      0.000000      0.000000   \n",
       "75%       48.000000  2.370510e+05      12.000000      0.000000      0.000000   \n",
       "max       90.000000  1.484705e+06      16.000000  99999.000000   4356.000000   \n",
       "\n",
       "       Hours-per-week  \n",
       "count    32561.000000  \n",
       "mean        40.437456  \n",
       "std         12.347429  \n",
       "min          1.000000  \n",
       "25%         40.000000  \n",
       "50%         40.000000  \n",
       "75%         45.000000  \n",
       "max         99.000000  "
      ]
     },
     "execution_count": 5,
     "metadata": {},
     "output_type": "execute_result"
    }
   ],
   "source": [
    "train.describe()"
   ]
  },
  {
   "cell_type": "markdown",
   "metadata": {},
   "source": [
    "Looking at the head information, it looks like a '?' is used instead of a NaN. I'll switch those to NaN now. "
   ]
  },
  {
   "cell_type": "code",
   "execution_count": 6,
   "metadata": {},
   "outputs": [
    {
     "data": {
      "text/plain": [
       "Age                  0\n",
       "Workclass         1836\n",
       "Final-Weight         0\n",
       "Education            0\n",
       "Education-Num        0\n",
       "Marital-Status       0\n",
       "Occupation        1843\n",
       "Relationship         0\n",
       "Race                 0\n",
       "Sex                  0\n",
       "Capital-Gain         0\n",
       "Capital-Loss         0\n",
       "Hours-per-week       0\n",
       "Native-Country     583\n",
       "Income               0\n",
       "dtype: int64"
      ]
     },
     "execution_count": 6,
     "metadata": {},
     "output_type": "execute_result"
    }
   ],
   "source": [
    "train.replace('?', np.NaN, inplace = True)\n",
    "train.isnull().sum() \n",
    "#checking the dataset for NaN values .... NaN values is in just Workclass, Occupation, and Country"
   ]
  },
  {
   "cell_type": "code",
   "execution_count": 7,
   "metadata": {},
   "outputs": [
    {
     "data": {
      "text/plain": [
       "Age                  0\n",
       "Workclass         1836\n",
       "Final-Weight         0\n",
       "Education            0\n",
       "Education-Num        0\n",
       "Marital-Status       0\n",
       "Occupation        1843\n",
       "Relationship         0\n",
       "Race                 0\n",
       "Sex                  0\n",
       "Capital-Gain         0\n",
       "Capital-Loss         0\n",
       "Hours-per-week       0\n",
       "Native-Country      27\n",
       "Income               0\n",
       "dtype: int64"
      ]
     },
     "execution_count": 7,
     "metadata": {},
     "output_type": "execute_result"
    }
   ],
   "source": [
    "# Check for overlap in missing values\n",
    "# Checking to how many missing values are there for Workclass and Native-Country when Occupation is missing\n",
    "# It turns out that all of the records that are missing Workclass are also missing Occupation\n",
    "train[train['Occupation'].isnull()].isnull().sum()"
   ]
  },
  {
   "cell_type": "code",
   "execution_count": 8,
   "metadata": {},
   "outputs": [
    {
     "name": "stdout",
     "output_type": "stream",
     "text": [
      "Percent of records that are missing Occupation: 6.00%\n",
      "Percent of records that are missing Native Country: 1.82%\n"
     ]
    }
   ],
   "source": [
    "print('Percent of records that are missing Occupation: ' + \n",
    "      '{0:.2%}'.format((train['Occupation'].isnull().sum()) / (train['Occupation'].count())))\n",
    "print('Percent of records that are missing Native Country: ' + \n",
    "      '{0:.2%}'.format((train['Native-Country'].isnull().sum()) / (train['Native-Country'].count())))"
   ]
  },
  {
   "cell_type": "markdown",
   "metadata": {},
   "source": [
    "Having 6% of records missing Occupation is pretty substantial. That is probably too many records to simply drop them. I could try to impute it in some way. Since Occupation, Workclass, and Country are categorical variables, I'll simply add a 'Missing' level for now. The models can pick it up. I can also look to see how missing values are distributed later.\n",
    "\n",
    "In real life, I'd need to be careful how records end up with a missing value. Is it something that is optional to fill out, is it something that doesn't fit in one of the buckets available, something else? Also, has this or will this change over time? Will the model implementation cause this to change? If so, we'll want to be extra careful with how we are treating missing values. "
   ]
  },
  {
   "cell_type": "code",
   "execution_count": 9,
   "metadata": {},
   "outputs": [],
   "source": [
    "train.replace(np.NaN, 'MISSING', inplace = True)"
   ]
  },
  {
   "cell_type": "markdown",
   "metadata": {},
   "source": [
    "Convert Gender and Income to numeric."
   ]
  },
  {
   "cell_type": "code",
   "execution_count": 10,
   "metadata": {},
   "outputs": [],
   "source": [
    "train['Gender_Male'] = train['Sex'].apply(lambda x: 1 if x == 'Male' else 0)\n",
    "train.drop(['Sex'], axis = 1, inplace = True)"
   ]
  },
  {
   "cell_type": "code",
   "execution_count": 11,
   "metadata": {},
   "outputs": [],
   "source": [
    "train['Income_Target'] = train['Income'].apply(lambda x: 1 if x == '>50K' else 0)\n",
    "train.drop(['Income'], axis = 1, inplace = True)"
   ]
  },
  {
   "cell_type": "markdown",
   "metadata": {},
   "source": [
    "# 2.  Function Definitions\n",
    "These functions help create graphs used in the EDA"
   ]
  },
  {
   "cell_type": "markdown",
   "metadata": {},
   "source": [
    "The BasicGraphs function creates basic graphs for a quick look at each feature's univariate results and distribution. \n",
    "Some of the options are to customize the graphs for better presentation"
   ]
  },
  {
   "cell_type": "code",
   "execution_count": 12,
   "metadata": {},
   "outputs": [],
   "source": [
    "\n",
    "\n",
    "def BasicGraphs(var, var_name='', x_label_rotation=0, specify_x_order=[], order_x_by_distribution=True, \n",
    "                specify_xticklabels=[], specify_xticks=[], data=train):\n",
    "    \"\"\"Creates basic graphs for a quick look at each feature's univariate results and distribution\n",
    "    \n",
    "    Parameters\n",
    "    ----------\n",
    "    var : str\n",
    "        The variable to graph against income\n",
    "    var_name : str, optional\n",
    "        An optional name to display for the variable that is more user friendly\n",
    "    x_label_rotation : int, optional\n",
    "        Allows for x labels to be rotated to accommodate long names\n",
    "    specify_x_order : list, optional\n",
    "        Allows for x to be ordered by a user passed list of level names\n",
    "    order_x_by_distribution : bool, optional\n",
    "        Allows for x to be ordered by the size of the levels (default is True)\n",
    "    specify_xticklabels : list, optional\n",
    "        Allows for x tick labels to be renamed\n",
    "    specify_xticks : list, optional\n",
    "        Used in conjunction with specify_xticklabels. Orderd list of xticks to be relabeled\n",
    "    data : DataFrame, optional\n",
    "        The data source for the graphs (default is train dataset)\n",
    "    \"\"\"\n",
    "\n",
    "    plt.figure(figsize=(12,5))\n",
    "    if var_name == '': var_name = var\n",
    "\n",
    "    plt.suptitle(var_name, weight = 'bold')\n",
    "    plt.subplot(1, 2, 1)\n",
    "    if specify_x_order:\n",
    "        sns.barplot(x = var, y = 'Income_Target', data = data, \n",
    "                    order = specify_x_order, color = 'tab:blue')\n",
    "    elif order_x_by_distribution == True:\n",
    "        sns.barplot(x = var, y = 'Income_Target', data = data, \n",
    "                    order = data[var].value_counts().index, color = 'tab:blue')\n",
    "    else:\n",
    "        sns.barplot(x = var, y = 'Income_Target', data = data, color = 'tab:blue')\n",
    "    plt.title('Percent with Income >50k')\n",
    "    plt.ylabel('Percent')\n",
    "    plt.xlabel('')\n",
    "    if specify_xticks:\n",
    "        plt.xticks(ticks = specify_xticks, labels = specify_xticklabels, rotation = x_label_rotation)\n",
    "    else:\n",
    "        plt.xticks(rotation = x_label_rotation)\n",
    "\n",
    "    plt.subplot(1, 2, 2)\n",
    "    if specify_x_order:\n",
    "        sns.countplot(x = var, data = data, \n",
    "                  order = specify_x_order, color = 'tab:blue')\n",
    "    elif order_x_by_distribution == True:\n",
    "        sns.countplot(x = var, data = data, \n",
    "                  order = data[var].value_counts().index, color = 'tab:blue')\n",
    "    else:\n",
    "        sns.countplot(x = var, data = data, color = 'tab:blue')\n",
    "    plt.title('Distribution by ' + var_name)\n",
    "    plt.ylabel('Count')\n",
    "    plt.xlabel('')\n",
    "    if specify_xticks:\n",
    "        plt.xticks(ticks = specify_xticks, labels = specify_xticklabels, rotation = x_label_rotation)\n",
    "    else:\n",
    "        plt.xticks(rotation = x_label_rotation)\n",
    "\n",
    "    plt.show()"
   ]
  },
  {
   "cell_type": "markdown",
   "metadata": {},
   "source": [
    "The DistributionGraph function creates graphs to split out how the two income groups are distributed for a specified continuous feature. "
   ]
  },
  {
   "cell_type": "code",
   "execution_count": 13,
   "metadata": {},
   "outputs": [],
   "source": [
    "def DistributionGraph(var):\n",
    "    \"\"\"Graphs continuous distributions by Income\"\"\"\n",
    "    line0 = train[train['Income_Target'] == 0][var]\n",
    "    line1 = train[train['Income_Target'] == 1][var]\n",
    "    \n",
    "    plt.figure(figsize = (10, 5))\n",
    "    ax = sns.kdeplot(line0, shade = True)\n",
    "    sns.kdeplot(line1, shade = True)\n",
    "    plt.title('Distribution of Income by ' + var, weight = 'bold')\n",
    "    plt.xlabel(var)\n",
    "    plt.ylabel('Percent of Distribution')\n",
    "    plt.legend(['<=50K', '>50K'], loc = 'center right', frameon = False)\n",
    "    ax.spines['top'].set_visible(False)\n",
    "    ax.spines['right'].set_visible(False)\n",
    "    plt.show()"
   ]
  },
  {
   "cell_type": "markdown",
   "metadata": {},
   "source": [
    "# 3.  Exploratory Data Analysis \n",
    "Now that I have the data prepped, I'll do a bit of EDA to understand what is going on in the data. Since there are only 15 columns in this data set, we can look at each feature individually. This will help us get a better understanding of what is going on in the data. It will also help identify possible ways to group levels or adjust features. It can also identify outliers or other things we may want to address in the data. "
   ]
  },
  {
   "cell_type": "markdown",
   "metadata": {},
   "source": [
    "## 3.A.  Some General EDA\n",
    "Here I'll take a look at:\n",
    "* How Income (the target) is distributed.\n",
    "* Use box plots to see how some of the numeric features (Age, Education-Num, and Hours-per-week) are distributed\n",
    "* Look at how the numeric features are correlated"
   ]
  },
  {
   "cell_type": "code",
   "execution_count": 14,
   "metadata": {},
   "outputs": [
    {
     "data": {
      "image/png": "[encoded data removed]",
      "text/plain": [
       "<Figure size 432x288 with 1 Axes>"
      ]
     },
     "metadata": {
      "needs_background": "light"
     },
     "output_type": "display_data"
    }
   ],
   "source": [
    "ax = sns.countplot(x = 'Income_Target', data = train)\n",
    "ax.set(title = 'Distribution of Income', xlabel = 'Income', xticklabels = ['<=50K', '>50K'], \n",
    "       ylabel = 'Count')\n",
    "plt.show()"
   ]
  },
  {
   "cell_type": "code",
   "execution_count": 15,
   "metadata": {},
   "outputs": [
    {
     "data": {
      "text/html": [
       "<div>\n",
       "<style scoped>\n",
       "    .dataframe tbody tr th:only-of-type {\n",
       "        vertical-align: middle;\n",
       "    }\n",
       "\n",
       "    .dataframe tbody tr th {\n",
       "        vertical-align: top;\n",
       "    }\n",
       "\n",
       "    .dataframe thead th {\n",
       "        text-align: right;\n",
       "    }\n",
       "</style>\n",
       "<table border=\"1\" class=\"dataframe\">\n",
       "  <thead>\n",
       "    <tr style=\"text-align: right;\">\n",
       "      <th></th>\n",
       "      <th>Income_Target</th>\n",
       "    </tr>\n",
       "    <tr>\n",
       "      <th>Income_Target</th>\n",
       "      <th></th>\n",
       "    </tr>\n",
       "  </thead>\n",
       "  <tbody>\n",
       "    <tr>\n",
       "      <th>0</th>\n",
       "      <td>0.75919</td>\n",
       "    </tr>\n",
       "    <tr>\n",
       "      <th>1</th>\n",
       "      <td>0.24081</td>\n",
       "    </tr>\n",
       "  </tbody>\n",
       "</table>\n",
       "</div>"
      ],
      "text/plain": [
       "               Income_Target\n",
       "Income_Target               \n",
       "0                    0.75919\n",
       "1                    0.24081"
      ]
     },
     "execution_count": 15,
     "metadata": {},
     "output_type": "execute_result"
    }
   ],
   "source": [
    "train.groupby(['Income_Target'])[['Income_Target']].count()/(train['Income_Target'].count())"
   ]
  },
  {
   "cell_type": "markdown",
   "metadata": {},
   "source": [
    "The data set is unbalanced with 76% of incomes <=50K. Any model I build will need to at a minimum do better than the 76% accuracy achievable from simply predicting everyone makes less than 50K."
   ]
  },
  {
   "cell_type": "code",
   "execution_count": 16,
   "metadata": {},
   "outputs": [
    {
     "data": {
      "image/png": "[encoded data removed]",
      "text/plain": [
       "<Figure size 1008x360 with 3 Axes>"
      ]
     },
     "metadata": {
      "needs_background": "light"
     },
     "output_type": "display_data"
    }
   ],
   "source": [
    "fig, axes = plt.subplots(nrows = 1, ncols = 3, figsize = (14, 5))\n",
    "fig.suptitle('Box plots to see distribution by income')\n",
    "sns.boxplot(y = 'Age', x = 'Income_Target',  data = train, ax = axes[0])\n",
    "axes[0].set(xlabel = 'Income', xticklabels = ['<=50K', '>50K'])\n",
    "sns.boxplot(y = 'Education-Num', x = 'Income_Target',  data = train, ax = axes[1])\n",
    "axes[1].set(xlabel = 'Income', xticklabels = ['<=50K', '>50K'])\n",
    "sns.boxplot(y = 'Hours-per-week', x = 'Income_Target',  data = train, ax = axes[2])\n",
    "axes[2].set(xlabel = 'Income', xticklabels = ['<=50K', '>50K'])\n",
    "\n",
    "plt.show()"
   ]
  },
  {
   "cell_type": "code",
   "execution_count": 17,
   "metadata": {},
   "outputs": [
    {
     "data": {
      "text/plain": [
       "<matplotlib.axes._subplots.AxesSubplot at 0x1a20ce36d0>"
      ]
     },
     "execution_count": 17,
     "metadata": {},
     "output_type": "execute_result"
    },
    {
     "data": {
      "image/png": "[encoded data removed]",
      "text/plain": [
       "<Figure size 576x432 with 2 Axes>"
      ]
     },
     "metadata": {
      "needs_background": "light"
     },
     "output_type": "display_data"
    }
   ],
   "source": [
    "corr = train.corr()\n",
    "corr_mask = corr.apply(lambda x: x == 1)\n",
    "plt.figure(figsize = (8, 6))\n",
    "sns.heatmap(train.corr(), cmap = 'Blues', annot = True, mask = corr_mask)"
   ]
  },
  {
   "cell_type": "markdown",
   "metadata": {},
   "source": [
    "### General EDA observations:\n",
    "\n",
    "* This data set is a bit skewed with only about a quarter of people having an income > $50k\n",
    "\n",
    "* Education is the most strongly correlated numerical feature with Income. People with more education are more likely to make more. \n",
    "* Older people, people who work more, men, and people with investments that are making capital gains and losses also more likely to make more than $50k. \n",
    "* Men are also more likely to work longer hours. \n",
    "\n",
    "In general, this lines up pretty well with what I'd expect. \n"
   ]
  },
  {
   "cell_type": "markdown",
   "metadata": {},
   "source": [
    "## 3.B.  Education"
   ]
  },
  {
   "cell_type": "code",
   "execution_count": 18,
   "metadata": {},
   "outputs": [
    {
     "data": {
      "image/png": "[encoded data removed]",
      "text/plain": [
       "<Figure size 864x360 with 2 Axes>"
      ]
     },
     "metadata": {
      "needs_background": "light"
     },
     "output_type": "display_data"
    }
   ],
   "source": [
    "ed_order = ['Preschool', '1st-4th', '5th-6th', '7th-8th', '9th', '10th', '11th', '12th', 'HS-grad', 'Some-college', \n",
    "         'Assoc-voc', 'Assoc-acdm', 'Bachelors', 'Masters', 'Prof-school', 'Doctorate']\n",
    "BasicGraphs('Education', x_label_rotation=90, specify_x_order=ed_order)"
   ]
  },
  {
   "cell_type": "code",
   "execution_count": 19,
   "metadata": {},
   "outputs": [],
   "source": [
    "def EducationNumGrouping(EdNum):\n",
    "    \"\"\"Function to create Education groups\"\"\"\n",
    "    if EdNum < 9:\n",
    "        return '1. <HS-grad'\n",
    "    elif EdNum == 9:\n",
    "        return '2. HS-grad'\n",
    "    elif EdNum == 10:\n",
    "        return '3. Some-college'\n",
    "    elif EdNum in (11, 12):\n",
    "        return '4. Assoc'\n",
    "    elif EdNum == 13:\n",
    "        return '5. Bachelors'\n",
    "    elif EdNum == 14:\n",
    "        return '6. Masters'\n",
    "    elif EdNum in (15, 16):\n",
    "        return '7. Prof-School & Doctorate'\n",
    "    else:\n",
    "        return 'Other'"
   ]
  },
  {
   "cell_type": "code",
   "execution_count": 20,
   "metadata": {},
   "outputs": [],
   "source": [
    "train['Education-Group'] = train['Education-Num'].apply(lambda x: EducationNumGrouping(x))"
   ]
  },
  {
   "cell_type": "code",
   "execution_count": 21,
   "metadata": {},
   "outputs": [
    {
     "data": {
      "image/png": "[encoded data removed]",
      "text/plain": [
       "<Figure size 864x360 with 2 Axes>"
      ]
     },
     "metadata": {
      "needs_background": "light"
     },
     "output_type": "display_data"
    }
   ],
   "source": [
    "ed_group_order = np.sort(train['Education-Group'].unique()).tolist()\n",
    "BasicGraphs('Education-Group', 'Eduacation Group', x_label_rotation=90, \n",
    "            specify_x_order=ed_group_order)"
   ]
  },
  {
   "cell_type": "markdown",
   "metadata": {},
   "source": [
    "### Education Observations\n",
    "Education and Education-Num are basically identical and 100% correlated. They are just different ways to present the same information. \n",
    "\n",
    "Education is clearly hugely important. People with less than a high school grad are very unlikely to have a high income. People with between a high school degree and less than a Bachelors degree have a moderate chance of a high income. People with advanced degrees have a high probability of a high income. \n",
    "\n",
    "I created the following groups which seem pretty reasonable. \n",
    "* Less than a high school grad - May want to split out 4th grade or less, although this is may be too small to be worth splitting out\n",
    "* High school grad\n",
    "* Some college\n",
    "* Associates degree\n",
    "* Bachelors degree\n",
    "* Masters\n",
    "* Prof-school & Doctorate"
   ]
  },
  {
   "cell_type": "markdown",
   "metadata": {},
   "source": [
    "## 3.C.  Age"
   ]
  },
  {
   "cell_type": "code",
   "execution_count": 22,
   "metadata": {},
   "outputs": [
    {
     "data": {
      "image/png": "[encoded data removed]",
      "text/plain": [
       "<Figure size 720x360 with 1 Axes>"
      ]
     },
     "metadata": {
      "needs_background": "light"
     },
     "output_type": "display_data"
    }
   ],
   "source": [
    "DistributionGraph('Age')"
   ]
  },
  {
   "cell_type": "code",
   "execution_count": 23,
   "metadata": {},
   "outputs": [],
   "source": [
    "train['Age_80'] = train['Age'].apply(lambda x: 80 if x >= 80 else x)"
   ]
  },
  {
   "cell_type": "code",
   "execution_count": 24,
   "metadata": {},
   "outputs": [
    {
     "data": {
      "text/plain": [
       "[]"
      ]
     },
     "execution_count": 24,
     "metadata": {},
     "output_type": "execute_result"
    },
    {
     "data": {
      "image/png": "[encoded data removed]",
      "text/plain": [
       "<Figure size 864x360 with 1 Axes>"
      ]
     },
     "metadata": {
      "needs_background": "light"
     },
     "output_type": "display_data"
    }
   ],
   "source": [
    "plt.figure(figsize = (12, 5))\n",
    "ax = sns.barplot(x = 'Age_80', y = 'Income_Target', data = train, color = 'tab:blue')\n",
    "plt.title('Percent with Income > 50k', weight = 'bold')\n",
    "plt.ylabel('Percent')\n",
    "ax.set(xlabel = 'Age', xticks = [0, 3, 13, 23, 33, 43, 53, 63], xticklabels = ['17', '20', '30', '40', '50', '60', '70', '80'])\n",
    "ax.spines['top'].set_visible(False)\n",
    "ax.spines['right'].set_visible(False)\n",
    "plt.plot()"
   ]
  },
  {
   "cell_type": "markdown",
   "metadata": {},
   "source": [
    "### Age Observations\n",
    "* The percent of people with incomes over $50k increase as people age, peaking around 50. It then decreases from there on. \n",
    "* There aren't a lot of people over 80 so I grouped people 80+ together. "
   ]
  },
  {
   "cell_type": "markdown",
   "metadata": {},
   "source": [
    "## 3.D.  Hours/Week"
   ]
  },
  {
   "cell_type": "code",
   "execution_count": 25,
   "metadata": {},
   "outputs": [
    {
     "data": {
      "image/png": "[encoded data removed]",
      "text/plain": [
       "<Figure size 720x360 with 1 Axes>"
      ]
     },
     "metadata": {
      "needs_background": "light"
     },
     "output_type": "display_data"
    }
   ],
   "source": [
    "DistributionGraph('Hours-per-week')"
   ]
  },
  {
   "cell_type": "code",
   "execution_count": 26,
   "metadata": {},
   "outputs": [],
   "source": [
    "# Create hour groups to better see what is happening. \n",
    "# Also this data is probably not linear in its response. \n",
    "# i.e. Moving from 37 to 39 hours seems like it is very different than moving from 39 to 41 hours. \n",
    "\n",
    "def HoursGrouping(Hrs):\n",
    "    if Hrs < 30:\n",
    "        return '1 < 30 hrs'\n",
    "    elif Hrs < 35:\n",
    "        return '2 30 - 34 hrs'\n",
    "    elif Hrs < 40:\n",
    "        return '3 35 - 39 hrs'\n",
    "    elif Hrs == 40:\n",
    "        return '4 40 hrs'\n",
    "    elif Hrs <= 45:\n",
    "        return '5 41 - 45 hrs'\n",
    "    elif Hrs <= 50:\n",
    "        return '6 46 - 50 hrs'\n",
    "    elif Hrs < 60:\n",
    "        return '7 51 - 59 hrs'\n",
    "    else:\n",
    "        return '8 >= 60 hrs'"
   ]
  },
  {
   "cell_type": "code",
   "execution_count": 27,
   "metadata": {},
   "outputs": [],
   "source": [
    "train['Hours-per-week-group'] = train['Hours-per-week'].apply(lambda x: HoursGrouping(x))"
   ]
  },
  {
   "cell_type": "code",
   "execution_count": 28,
   "metadata": {},
   "outputs": [
    {
     "data": {
      "image/png": "[encoded data removed]",
      "text/plain": [
       "<Figure size 864x360 with 2 Axes>"
      ]
     },
     "metadata": {
      "needs_background": "light"
     },
     "output_type": "display_data"
    }
   ],
   "source": [
    "hrs_group_order = np.sort(train['Hours-per-week-group'].unique()).tolist()\n",
    "BasicGraphs('Hours-per-week-group', 'Hours per week', x_label_rotation=90, \n",
    "            specify_x_order=hrs_group_order)"
   ]
  },
  {
   "cell_type": "markdown",
   "metadata": {},
   "source": [
    "## Hours observations\n",
    "* Half of people work 40 hours a week. \n",
    "* People that work more than 40 hours are almost twice as likely as people who work 40 hours to make over 50K. \n",
    "* People who work 34 hours or less are unlikely to make more than 50K. \n",
    "\n",
    "* For modeling I will probably group hours a bit more. I could create a group for working >45 hours and probably another group for <35 hours to use for regression models."
   ]
  },
  {
   "cell_type": "markdown",
   "metadata": {},
   "source": [
    "## 3.E.  Gender"
   ]
  },
  {
   "cell_type": "code",
   "execution_count": 30,
   "metadata": {},
   "outputs": [
    {
     "data": {
      "image/png": "[encoded data removed]",
      "text/plain": [
       "<Figure size 864x360 with 2 Axes>"
      ]
     },
     "metadata": {
      "needs_background": "light"
     },
     "output_type": "display_data"
    }
   ],
   "source": [
    "BasicGraphs('Gender_Male', 'Gender', order_x_by_distribution=False, \n",
    "            specify_xticklabels=['Female', 'Male'], specify_xticks = [0,1])"
   ]
  },
  {
   "cell_type": "markdown",
   "metadata": {},
   "source": [
    "### Gender observations\n",
    "* Wow! I was expecting males to be substantially more likely to make more than 50K than women, but I wasn't expecting it to result in almost to result in around a 3x difference. \n",
    "* Males are also substantially more represented in this data set. \n",
    "* I'll keep an eye out for this in other variables that I look at (Marital Status and Relationship)."
   ]
  },
  {
   "cell_type": "markdown",
   "metadata": {},
   "source": [
    "## 3.F.  Marital Status"
   ]
  },
  {
   "cell_type": "code",
   "execution_count": 31,
   "metadata": {},
   "outputs": [
    {
     "data": {
      "image/png": "[encoded data removed]",
      "text/plain": [
       "<Figure size 864x360 with 2 Axes>"
      ]
     },
     "metadata": {
      "needs_background": "light"
     },
     "output_type": "display_data"
    }
   ],
   "source": [
    "BasicGraphs('Marital-Status', 'Marital Status', x_label_rotation=90)"
   ]
  },
  {
   "cell_type": "markdown",
   "metadata": {},
   "source": [
    "* Seems like married is similiar whether or not the spouse is civilian or Armed Forces \n",
    "    * I'll group these together since there are so few AF spouses\n",
    "* Also Divorced and Married-spouse-absent have similiar univariate results,\n",
    "    * I will consider grouping them together in the future"
   ]
  },
  {
   "cell_type": "code",
   "execution_count": 32,
   "metadata": {
    "scrolled": true
   },
   "outputs": [],
   "source": [
    "train['Marital-Status-Group'] = train['Marital-Status'].apply(\n",
    "    lambda x: 'Married-spouse' if x in ('Married-AF-spouse', 'Married-civ-spouse') else x)"
   ]
  },
  {
   "cell_type": "markdown",
   "metadata": {},
   "source": [
    "I'm curious about how much age might be playing into the rates of income >50k being so low for Never-married. I'll look at the age distribution for Never-married and Married to see what kind of impact age might be having."
   ]
  },
  {
   "cell_type": "code",
   "execution_count": 33,
   "metadata": {},
   "outputs": [
    {
     "data": {
      "image/png": "[encoded data removed]",
      "text/plain": [
       "<Figure size 720x360 with 1 Axes>"
      ]
     },
     "metadata": {
      "needs_background": "light"
     },
     "output_type": "display_data"
    }
   ],
   "source": [
    "mask = (train['Marital-Status-Group'] == 'Married-spouse') | (train['Marital-Status-Group'] == 'Never-married')\n",
    "married_never = train[mask]\n",
    "married = train[train['Marital-Status-Group'] == 'Married-spouse']\n",
    "never_married = train[train['Marital-Status-Group'] == 'Never-married']\n",
    "\n",
    "plt.figure(figsize = (10, 5))\n",
    "ax = sns.kdeplot(never_married['Age'], shade = True)\n",
    "sns.kdeplot(married['Age'], shade = True)\n",
    "plt.title('Age Distributions for People who are Married and Never Married', weight = 'bold')\n",
    "plt.xlabel('Age')\n",
    "plt.ylabel('Percent of Distribution')\n",
    "plt.legend(['Never Married', 'Married'], loc = 'center right', frameon = False)\n",
    "ax.spines['top'].set_visible(False)\n",
    "ax.spines['right'].set_visible(False)\n",
    "plt.show()"
   ]
  },
  {
   "cell_type": "code",
   "execution_count": 34,
   "metadata": {},
   "outputs": [
    {
     "data": {
      "image/png": "[encoded data removed]",
      "text/plain": [
       "<Figure size 864x360 with 2 Axes>"
      ]
     },
     "metadata": {
      "needs_background": "light"
     },
     "output_type": "display_data"
    }
   ],
   "source": [
    "plt.figure(figsize=(12,5))\n",
    "\n",
    "plt.subplot(1, 2, 1)\n",
    "ax2 = sns.barplot(x = 'Age_80', y = 'Income_Target', data = never_married, color = 'tab:blue', ci = None)\n",
    "plt.title('Percent with Income > 50k among Never Married People')\n",
    "ax2.set(xlabel = 'Age', xticks = [3, 13, 23, 33, 43, 53, 63], xticklabels = ['20', '30', '40', '50', '60', '70', '80'])\n",
    "plt.ylabel('Percent')\n",
    "\n",
    "plt.subplot(1, 2, 2)\n",
    "ax1 = sns.barplot(x = 'Age_80', y = 'Income_Target', data = married, color = 'tab:blue', ci = None)\n",
    "plt.title('Percent with Income > 50k among Married People')\n",
    "ax1.set(xlabel = 'Age', xticks = [3, 13, 23, 33, 43, 53, 63], xticklabels = ['20', '30', '40', '50', '60', '70', '80'])\n",
    "ax1.set_ylim(top = 1)\n",
    "plt.ylabel('Percent')\n",
    "plt.show()"
   ]
  },
  {
   "cell_type": "markdown",
   "metadata": {},
   "source": [
    "### Marital Status observations\n",
    "* Married people are at least 4 times more likely to make more than $50k than other people.\n",
    "* Never married people are the least likely to have an income >50K. I looked into how much age might be driving this. Never married people make substantially less than married people at all ages. \n",
    "* I grouped civilian and armed forces married together, since they have similiar probabilities of a high income and there are very few AF spouses. \n",
    "* I could potentially group Married-spouse-absent with divorced if needed. "
   ]
  },
  {
   "cell_type": "markdown",
   "metadata": {},
   "source": [
    "## 3.G.  Relationship"
   ]
  },
  {
   "cell_type": "code",
   "execution_count": 35,
   "metadata": {},
   "outputs": [
    {
     "data": {
      "image/png": "[encoded data removed]",
      "text/plain": [
       "<Figure size 864x360 with 2 Axes>"
      ]
     },
     "metadata": {
      "needs_background": "light"
     },
     "output_type": "display_data"
    }
   ],
   "source": [
    "BasicGraphs('Relationship', x_label_rotation=90)"
   ]
  },
  {
   "cell_type": "code",
   "execution_count": 38,
   "metadata": {},
   "outputs": [
    {
     "data": {
      "text/html": [
       "<div>\n",
       "<style scoped>\n",
       "    .dataframe tbody tr th:only-of-type {\n",
       "        vertical-align: middle;\n",
       "    }\n",
       "\n",
       "    .dataframe tbody tr th {\n",
       "        vertical-align: top;\n",
       "    }\n",
       "\n",
       "    .dataframe thead th {\n",
       "        text-align: right;\n",
       "    }\n",
       "</style>\n",
       "<table border=\"1\" class=\"dataframe\">\n",
       "  <thead>\n",
       "    <tr style=\"text-align: right;\">\n",
       "      <th>Relationship</th>\n",
       "      <th>Husband</th>\n",
       "      <th>Not-in-family</th>\n",
       "      <th>Other-relative</th>\n",
       "      <th>Own-child</th>\n",
       "      <th>Unmarried</th>\n",
       "      <th>Wife</th>\n",
       "    </tr>\n",
       "    <tr>\n",
       "      <th>Marital-Status-Group</th>\n",
       "      <th></th>\n",
       "      <th></th>\n",
       "      <th></th>\n",
       "      <th></th>\n",
       "      <th></th>\n",
       "      <th></th>\n",
       "    </tr>\n",
       "  </thead>\n",
       "  <tbody>\n",
       "    <tr>\n",
       "      <th>Divorced</th>\n",
       "      <td>0</td>\n",
       "      <td>2404</td>\n",
       "      <td>110</td>\n",
       "      <td>328</td>\n",
       "      <td>1601</td>\n",
       "      <td>0</td>\n",
       "    </tr>\n",
       "    <tr>\n",
       "      <th>Married-spouse</th>\n",
       "      <td>13193</td>\n",
       "      <td>17</td>\n",
       "      <td>125</td>\n",
       "      <td>96</td>\n",
       "      <td>0</td>\n",
       "      <td>1568</td>\n",
       "    </tr>\n",
       "    <tr>\n",
       "      <th>Married-spouse-absent</th>\n",
       "      <td>0</td>\n",
       "      <td>211</td>\n",
       "      <td>32</td>\n",
       "      <td>45</td>\n",
       "      <td>130</td>\n",
       "      <td>0</td>\n",
       "    </tr>\n",
       "    <tr>\n",
       "      <th>Never-married</th>\n",
       "      <td>0</td>\n",
       "      <td>4706</td>\n",
       "      <td>611</td>\n",
       "      <td>4485</td>\n",
       "      <td>881</td>\n",
       "      <td>0</td>\n",
       "    </tr>\n",
       "    <tr>\n",
       "      <th>Separated</th>\n",
       "      <td>0</td>\n",
       "      <td>420</td>\n",
       "      <td>55</td>\n",
       "      <td>99</td>\n",
       "      <td>451</td>\n",
       "      <td>0</td>\n",
       "    </tr>\n",
       "    <tr>\n",
       "      <th>Widowed</th>\n",
       "      <td>0</td>\n",
       "      <td>547</td>\n",
       "      <td>48</td>\n",
       "      <td>15</td>\n",
       "      <td>383</td>\n",
       "      <td>0</td>\n",
       "    </tr>\n",
       "  </tbody>\n",
       "</table>\n",
       "</div>"
      ],
      "text/plain": [
       "Relationship           Husband  Not-in-family  Other-relative  Own-child  \\\n",
       "Marital-Status-Group                                                       \n",
       "Divorced                     0           2404             110        328   \n",
       "Married-spouse           13193             17             125         96   \n",
       "Married-spouse-absent        0            211              32         45   \n",
       "Never-married                0           4706             611       4485   \n",
       "Separated                    0            420              55         99   \n",
       "Widowed                      0            547              48         15   \n",
       "\n",
       "Relationship           Unmarried  Wife  \n",
       "Marital-Status-Group                    \n",
       "Divorced                    1601     0  \n",
       "Married-spouse                 0  1568  \n",
       "Married-spouse-absent        130     0  \n",
       "Never-married                881     0  \n",
       "Separated                    451     0  \n",
       "Widowed                      383     0  "
      ]
     },
     "execution_count": 38,
     "metadata": {},
     "output_type": "execute_result"
    }
   ],
   "source": [
    "pd.crosstab(train['Marital-Status-Group'], train['Relationship'])"
   ]
  },
  {
   "cell_type": "code",
   "execution_count": 39,
   "metadata": {},
   "outputs": [
    {
     "data": {
      "text/html": [
       "<div>\n",
       "<style scoped>\n",
       "    .dataframe tbody tr th:only-of-type {\n",
       "        vertical-align: middle;\n",
       "    }\n",
       "\n",
       "    .dataframe tbody tr th {\n",
       "        vertical-align: top;\n",
       "    }\n",
       "\n",
       "    .dataframe thead th {\n",
       "        text-align: right;\n",
       "    }\n",
       "</style>\n",
       "<table border=\"1\" class=\"dataframe\">\n",
       "  <thead>\n",
       "    <tr style=\"text-align: right;\">\n",
       "      <th>Relationship</th>\n",
       "      <th>Husband</th>\n",
       "      <th>Not-in-family</th>\n",
       "      <th>Other-relative</th>\n",
       "      <th>Own-child</th>\n",
       "      <th>Unmarried</th>\n",
       "      <th>Wife</th>\n",
       "    </tr>\n",
       "    <tr>\n",
       "      <th>Gender_Male</th>\n",
       "      <th></th>\n",
       "      <th></th>\n",
       "      <th></th>\n",
       "      <th></th>\n",
       "      <th></th>\n",
       "      <th></th>\n",
       "    </tr>\n",
       "  </thead>\n",
       "  <tbody>\n",
       "    <tr>\n",
       "      <th>0</th>\n",
       "      <td>1</td>\n",
       "      <td>3875</td>\n",
       "      <td>430</td>\n",
       "      <td>2245</td>\n",
       "      <td>2654</td>\n",
       "      <td>1566</td>\n",
       "    </tr>\n",
       "    <tr>\n",
       "      <th>1</th>\n",
       "      <td>13192</td>\n",
       "      <td>4430</td>\n",
       "      <td>551</td>\n",
       "      <td>2823</td>\n",
       "      <td>792</td>\n",
       "      <td>2</td>\n",
       "    </tr>\n",
       "  </tbody>\n",
       "</table>\n",
       "</div>"
      ],
      "text/plain": [
       "Relationship  Husband  Not-in-family  Other-relative  Own-child  Unmarried  \\\n",
       "Gender_Male                                                                  \n",
       "0                   1           3875             430       2245       2654   \n",
       "1               13192           4430             551       2823        792   \n",
       "\n",
       "Relationship  Wife  \n",
       "Gender_Male         \n",
       "0             1566  \n",
       "1                2  "
      ]
     },
     "execution_count": 39,
     "metadata": {},
     "output_type": "execute_result"
    }
   ],
   "source": [
    "pd.crosstab(train['Gender_Male'], train['Relationship'])"
   ]
  },
  {
   "cell_type": "markdown",
   "metadata": {},
   "source": [
    "### Relationship observations\n",
    "* Married people are much more likely to have a high income. \n",
    "* For married people, the husband was chosen for Relationship the vast majority of the time (88%). Maybe this is related to who filled out the survey. \n",
    "* It's interesting that the gender gap isn't showing up between husbands and wifes\n",
    "    * There may be well be some sampling bias here. This could help explain why the gender gap is so large.\n",
    "    * The other relationship statuses are fairly balanced other than Unmarried which has a lot more women\n",
    "* There's a lot of overlap with Marital Status here. "
   ]
  },
  {
   "cell_type": "markdown",
   "metadata": {},
   "source": [
    "## 3.H.  Race"
   ]
  },
  {
   "cell_type": "code",
   "execution_count": 40,
   "metadata": {},
   "outputs": [
    {
     "data": {
      "image/png": "[encoded data removed]",
      "text/plain": [
       "<Figure size 864x360 with 2 Axes>"
      ]
     },
     "metadata": {
      "needs_background": "light"
     },
     "output_type": "display_data"
    }
   ],
   "source": [
    "BasicGraphs('Race', x_label_rotation=90)"
   ]
  },
  {
   "cell_type": "code",
   "execution_count": 41,
   "metadata": {},
   "outputs": [
    {
     "data": {
      "text/html": [
       "<div>\n",
       "<style scoped>\n",
       "    .dataframe tbody tr th:only-of-type {\n",
       "        vertical-align: middle;\n",
       "    }\n",
       "\n",
       "    .dataframe tbody tr th {\n",
       "        vertical-align: top;\n",
       "    }\n",
       "\n",
       "    .dataframe thead th {\n",
       "        text-align: right;\n",
       "    }\n",
       "</style>\n",
       "<table border=\"1\" class=\"dataframe\">\n",
       "  <thead>\n",
       "    <tr style=\"text-align: right;\">\n",
       "      <th>Income_Target</th>\n",
       "      <th>0</th>\n",
       "      <th>1</th>\n",
       "    </tr>\n",
       "    <tr>\n",
       "      <th>Race</th>\n",
       "      <th></th>\n",
       "      <th></th>\n",
       "    </tr>\n",
       "  </thead>\n",
       "  <tbody>\n",
       "    <tr>\n",
       "      <th>White</th>\n",
       "      <td>20699</td>\n",
       "      <td>7117</td>\n",
       "    </tr>\n",
       "    <tr>\n",
       "      <th>Black</th>\n",
       "      <td>2737</td>\n",
       "      <td>387</td>\n",
       "    </tr>\n",
       "    <tr>\n",
       "      <th>Asian-Pac-Islander</th>\n",
       "      <td>763</td>\n",
       "      <td>276</td>\n",
       "    </tr>\n",
       "    <tr>\n",
       "      <th>Amer-Indian-Eskimo</th>\n",
       "      <td>275</td>\n",
       "      <td>36</td>\n",
       "    </tr>\n",
       "    <tr>\n",
       "      <th>Other</th>\n",
       "      <td>246</td>\n",
       "      <td>25</td>\n",
       "    </tr>\n",
       "  </tbody>\n",
       "</table>\n",
       "</div>"
      ],
      "text/plain": [
       "Income_Target           0     1\n",
       "Race                           \n",
       "White               20699  7117\n",
       "Black                2737   387\n",
       "Asian-Pac-Islander    763   276\n",
       "Amer-Indian-Eskimo    275    36\n",
       "Other                 246    25"
      ]
     },
     "execution_count": 41,
     "metadata": {},
     "output_type": "execute_result"
    }
   ],
   "source": [
    "pd.crosstab(train['Race'], train['Income_Target']).sort_values(0, ascending = False)"
   ]
  },
  {
   "cell_type": "markdown",
   "metadata": {},
   "source": [
    "### Race Observations\n",
    "* Rates of income >50K for people who are classified as White and Asian-Pac-Islander are comparable and both double those of people who are classified as Black, Amer-Indian-Eskimo, or Other. \n",
    "\n",
    "* There are few people who are classified as Amer-Indian-Eskimo and Other in this data. They also have very similar results to Black in this univariate view. Consider grouping them together. "
   ]
  },
  {
   "cell_type": "markdown",
   "metadata": {},
   "source": [
    "## 3.I.  Country"
   ]
  },
  {
   "cell_type": "code",
   "execution_count": 42,
   "metadata": {},
   "outputs": [],
   "source": [
    "def CountryGrouping(country):\n",
    "    \"\"\"Function to create country groups\n",
    "    Most countries only have less than 100 people and probably aren't too predictive on their own. \n",
    "    \"\"\"\n",
    "    if country in ('United-States', 'Mexico', 'Canada'):\n",
    "        return country\n",
    "    elif country in ('Cambodia', 'India', 'Japan', 'China', 'Philippines', 'Vietnam', 'Laos', 'Taiwan', \n",
    "                     'Thailand', 'Hong', 'Iran'):\n",
    "        return 'Asia'\n",
    "    elif country in ('Cuba', 'Jamaica', 'Dominican-Republic', 'Haiti', 'Trinadad&Tobago'):\n",
    "        return 'Caribbean'\n",
    "    elif country in ('Honduras', 'Guatemala', 'Nicaragua', 'El-Salvador'):\n",
    "        return 'Central America'\n",
    "    elif country in ('England', 'Germany', 'Greece', 'Italy', 'Poland', 'Portugal', 'Ireland', 'France', \n",
    "                     'Hungary', 'Scotland', 'Yugoslavia', 'Holand-Netherlands'):\n",
    "        return 'Europe'\n",
    "    elif country in ('Ecuador', 'Columbia', 'Peru'):\n",
    "        return 'South America'\n",
    "    elif country in ('Puerto-Rico', 'Outlying-US(Guam-USVI-etc)'):\n",
    "        return 'US-Territory'    \n",
    "    else:\n",
    "        return country"
   ]
  },
  {
   "cell_type": "code",
   "execution_count": 43,
   "metadata": {},
   "outputs": [
    {
     "data": {
      "image/png": "[encoded data removed]",
      "text/plain": [
       "<Figure size 864x360 with 2 Axes>"
      ]
     },
     "metadata": {
      "needs_background": "light"
     },
     "output_type": "display_data"
    }
   ],
   "source": [
    "train['Native-Country-Group'] = train['Native-Country'].apply(lambda x: CountryGrouping(x))\n",
    "BasicGraphs('Native-Country-Group', 'Native Country - Grouped', x_label_rotation=90)"
   ]
  },
  {
   "cell_type": "code",
   "execution_count": 44,
   "metadata": {},
   "outputs": [
    {
     "data": {
      "image/png": "[encoded data removed]",
      "text/plain": [
       "<Figure size 864x360 with 2 Axes>"
      ]
     },
     "metadata": {
      "needs_background": "light"
     },
     "output_type": "display_data"
    }
   ],
   "source": [
    "# Take a look at the counts by region to help identify regions that are too small or can be grouped. \n",
    "# Exclude the US from this graph to be able to see the small counts more easily. \n",
    "regions_exUS = train[train['Native-Country-Group'] != 'United-States']\n",
    "BasicGraphs('Native-Country-Group', 'Native Country - Grouped - Excluding US', x_label_rotation=90, data=regions_exUS)"
   ]
  },
  {
   "cell_type": "code",
   "execution_count": 45,
   "metadata": {},
   "outputs": [
    {
     "name": "stdout",
     "output_type": "stream",
     "text": [
      "The percent of people that are native to the US is: 89.6%\n"
     ]
    }
   ],
   "source": [
    "x = train[train['Native-Country'] == 'United-States']['Age'].count()/train['Native-Country'].count()\n",
    "print('The percent of people that are native to the US is: ' + '{0:.1%}'.format(x))"
   ]
  },
  {
   "cell_type": "markdown",
   "metadata": {},
   "source": [
    "### Country Observations:\n",
    "\n",
    "I took the list of countries from the documentation online. I assume that Hong meant Hong Kong. I'm not quite sure what to do with South. It could be South Korea, South America, or the South (of the US). Iran is the only country from the Middle East and it doesn't have very many observations, so I grouped it with Asia. \n",
    "\n",
    "* 90% of people are from the United States.\n",
    "* People from Mexico, Central America, and South America have the lowest percent high incomes. (Could consider grouping Central America and possibly South America with Mexico. \n",
    "* People from Asia, Europe, and Canada are more likely to have higher incomes. "
   ]
  },
  {
   "cell_type": "markdown",
   "metadata": {},
   "source": [
    "## 3.J.  Occupation"
   ]
  },
  {
   "cell_type": "code",
   "execution_count": 46,
   "metadata": {},
   "outputs": [
    {
     "data": {
      "text/plain": [
       "Occupation\n",
       "Prof-specialty       4140\n",
       "Craft-repair         4099\n",
       "Exec-managerial      4066\n",
       "Adm-clerical         3770\n",
       "Sales                3650\n",
       "Other-service        3295\n",
       "Machine-op-inspct    2002\n",
       "MISSING              1843\n",
       "Transport-moving     1597\n",
       "Handlers-cleaners    1370\n",
       "Farming-fishing       994\n",
       "Tech-support          928\n",
       "Protective-serv       649\n",
       "Priv-house-serv       149\n",
       "Armed-Forces            9\n",
       "Name: Occupation, dtype: int64"
      ]
     },
     "execution_count": 46,
     "metadata": {},
     "output_type": "execute_result"
    }
   ],
   "source": [
    "# There's not a ton of different occupations. \n",
    "# Shouldn't need too much grouping. Mainly Armed-Forces and possibly Priv-house-serv.\n",
    "train.groupby('Occupation')['Occupation'].count().sort_values(ascending = False)"
   ]
  },
  {
   "cell_type": "code",
   "execution_count": 47,
   "metadata": {},
   "outputs": [
    {
     "data": {
      "image/png": "[encoded data removed]",
      "text/plain": [
       "<Figure size 864x360 with 2 Axes>"
      ]
     },
     "metadata": {
      "needs_background": "light"
     },
     "output_type": "display_data"
    }
   ],
   "source": [
    "BasicGraphs('Occupation', x_label_rotation = 90)"
   ]
  },
  {
   "cell_type": "markdown",
   "metadata": {},
   "source": [
    "Armed-Forces has hardly any observations. I'm going to group it to help prevent overfitting. Protective-serv seems like a fairly logical place to put it."
   ]
  },
  {
   "cell_type": "markdown",
   "metadata": {},
   "source": [
    "### Occupation Notes\n",
    "* There is a big spread of income distributions for occupation. \n",
    "    * Exec-managerial and Prof-specialty are most likely to make >50K\n",
    "    * Service occupations are very unlikely to make >50K"
   ]
  },
  {
   "cell_type": "markdown",
   "metadata": {},
   "source": [
    "## 3.K.  Workclass"
   ]
  },
  {
   "cell_type": "code",
   "execution_count": 48,
   "metadata": {},
   "outputs": [],
   "source": [
    "def OccupationGrouping(occupation):\n",
    "    if occupation == 'Armed-Forces':\n",
    "        return 'Protective-serv'\n",
    "    else:\n",
    "        return occupation"
   ]
  },
  {
   "cell_type": "code",
   "execution_count": 49,
   "metadata": {},
   "outputs": [],
   "source": [
    "train['Occupation-Group'] = train['Occupation'].apply(lambda x: OccupationGrouping(x))"
   ]
  },
  {
   "cell_type": "code",
   "execution_count": 50,
   "metadata": {},
   "outputs": [
    {
     "data": {
      "image/png": "[encoded data removed]",
      "text/plain": [
       "<Figure size 864x360 with 2 Axes>"
      ]
     },
     "metadata": {
      "needs_background": "light"
     },
     "output_type": "display_data"
    }
   ],
   "source": [
    "BasicGraphs('Workclass', 'Work Class', x_label_rotation=90)"
   ]
  },
  {
   "cell_type": "code",
   "execution_count": 51,
   "metadata": {},
   "outputs": [
    {
     "data": {
      "text/html": [
       "<div>\n",
       "<style scoped>\n",
       "    .dataframe tbody tr th:only-of-type {\n",
       "        vertical-align: middle;\n",
       "    }\n",
       "\n",
       "    .dataframe tbody tr th {\n",
       "        vertical-align: top;\n",
       "    }\n",
       "\n",
       "    .dataframe thead th {\n",
       "        text-align: right;\n",
       "    }\n",
       "</style>\n",
       "<table border=\"1\" class=\"dataframe\">\n",
       "  <thead>\n",
       "    <tr style=\"text-align: right;\">\n",
       "      <th>Workclass</th>\n",
       "      <th>Federal-gov</th>\n",
       "      <th>Local-gov</th>\n",
       "      <th>MISSING</th>\n",
       "      <th>Never-worked</th>\n",
       "      <th>Private</th>\n",
       "      <th>Self-emp-inc</th>\n",
       "      <th>Self-emp-not-inc</th>\n",
       "      <th>State-gov</th>\n",
       "      <th>Without-pay</th>\n",
       "    </tr>\n",
       "    <tr>\n",
       "      <th>Occupation</th>\n",
       "      <th></th>\n",
       "      <th></th>\n",
       "      <th></th>\n",
       "      <th></th>\n",
       "      <th></th>\n",
       "      <th></th>\n",
       "      <th></th>\n",
       "      <th></th>\n",
       "      <th></th>\n",
       "    </tr>\n",
       "  </thead>\n",
       "  <tbody>\n",
       "    <tr>\n",
       "      <th>Adm-clerical</th>\n",
       "      <td>317</td>\n",
       "      <td>283</td>\n",
       "      <td>0</td>\n",
       "      <td>0</td>\n",
       "      <td>2833</td>\n",
       "      <td>31</td>\n",
       "      <td>50</td>\n",
       "      <td>253</td>\n",
       "      <td>3</td>\n",
       "    </tr>\n",
       "    <tr>\n",
       "      <th>Armed-Forces</th>\n",
       "      <td>9</td>\n",
       "      <td>0</td>\n",
       "      <td>0</td>\n",
       "      <td>0</td>\n",
       "      <td>0</td>\n",
       "      <td>0</td>\n",
       "      <td>0</td>\n",
       "      <td>0</td>\n",
       "      <td>0</td>\n",
       "    </tr>\n",
       "    <tr>\n",
       "      <th>Craft-repair</th>\n",
       "      <td>64</td>\n",
       "      <td>146</td>\n",
       "      <td>0</td>\n",
       "      <td>0</td>\n",
       "      <td>3195</td>\n",
       "      <td>106</td>\n",
       "      <td>531</td>\n",
       "      <td>56</td>\n",
       "      <td>1</td>\n",
       "    </tr>\n",
       "    <tr>\n",
       "      <th>Exec-managerial</th>\n",
       "      <td>180</td>\n",
       "      <td>214</td>\n",
       "      <td>0</td>\n",
       "      <td>0</td>\n",
       "      <td>2691</td>\n",
       "      <td>400</td>\n",
       "      <td>392</td>\n",
       "      <td>189</td>\n",
       "      <td>0</td>\n",
       "    </tr>\n",
       "    <tr>\n",
       "      <th>Farming-fishing</th>\n",
       "      <td>8</td>\n",
       "      <td>29</td>\n",
       "      <td>0</td>\n",
       "      <td>0</td>\n",
       "      <td>455</td>\n",
       "      <td>51</td>\n",
       "      <td>430</td>\n",
       "      <td>15</td>\n",
       "      <td>6</td>\n",
       "    </tr>\n",
       "    <tr>\n",
       "      <th>Handlers-cleaners</th>\n",
       "      <td>23</td>\n",
       "      <td>47</td>\n",
       "      <td>0</td>\n",
       "      <td>0</td>\n",
       "      <td>1273</td>\n",
       "      <td>2</td>\n",
       "      <td>15</td>\n",
       "      <td>9</td>\n",
       "      <td>1</td>\n",
       "    </tr>\n",
       "    <tr>\n",
       "      <th>MISSING</th>\n",
       "      <td>0</td>\n",
       "      <td>0</td>\n",
       "      <td>1836</td>\n",
       "      <td>7</td>\n",
       "      <td>0</td>\n",
       "      <td>0</td>\n",
       "      <td>0</td>\n",
       "      <td>0</td>\n",
       "      <td>0</td>\n",
       "    </tr>\n",
       "    <tr>\n",
       "      <th>Machine-op-inspct</th>\n",
       "      <td>14</td>\n",
       "      <td>12</td>\n",
       "      <td>0</td>\n",
       "      <td>0</td>\n",
       "      <td>1913</td>\n",
       "      <td>13</td>\n",
       "      <td>36</td>\n",
       "      <td>13</td>\n",
       "      <td>1</td>\n",
       "    </tr>\n",
       "    <tr>\n",
       "      <th>Other-service</th>\n",
       "      <td>35</td>\n",
       "      <td>193</td>\n",
       "      <td>0</td>\n",
       "      <td>0</td>\n",
       "      <td>2740</td>\n",
       "      <td>27</td>\n",
       "      <td>175</td>\n",
       "      <td>124</td>\n",
       "      <td>1</td>\n",
       "    </tr>\n",
       "    <tr>\n",
       "      <th>Priv-house-serv</th>\n",
       "      <td>0</td>\n",
       "      <td>0</td>\n",
       "      <td>0</td>\n",
       "      <td>0</td>\n",
       "      <td>149</td>\n",
       "      <td>0</td>\n",
       "      <td>0</td>\n",
       "      <td>0</td>\n",
       "      <td>0</td>\n",
       "    </tr>\n",
       "    <tr>\n",
       "      <th>Prof-specialty</th>\n",
       "      <td>175</td>\n",
       "      <td>705</td>\n",
       "      <td>0</td>\n",
       "      <td>0</td>\n",
       "      <td>2313</td>\n",
       "      <td>160</td>\n",
       "      <td>373</td>\n",
       "      <td>414</td>\n",
       "      <td>0</td>\n",
       "    </tr>\n",
       "    <tr>\n",
       "      <th>Protective-serv</th>\n",
       "      <td>28</td>\n",
       "      <td>304</td>\n",
       "      <td>0</td>\n",
       "      <td>0</td>\n",
       "      <td>190</td>\n",
       "      <td>5</td>\n",
       "      <td>6</td>\n",
       "      <td>116</td>\n",
       "      <td>0</td>\n",
       "    </tr>\n",
       "    <tr>\n",
       "      <th>Sales</th>\n",
       "      <td>14</td>\n",
       "      <td>7</td>\n",
       "      <td>0</td>\n",
       "      <td>0</td>\n",
       "      <td>2942</td>\n",
       "      <td>291</td>\n",
       "      <td>385</td>\n",
       "      <td>11</td>\n",
       "      <td>0</td>\n",
       "    </tr>\n",
       "    <tr>\n",
       "      <th>Tech-support</th>\n",
       "      <td>68</td>\n",
       "      <td>38</td>\n",
       "      <td>0</td>\n",
       "      <td>0</td>\n",
       "      <td>736</td>\n",
       "      <td>3</td>\n",
       "      <td>26</td>\n",
       "      <td>57</td>\n",
       "      <td>0</td>\n",
       "    </tr>\n",
       "    <tr>\n",
       "      <th>Transport-moving</th>\n",
       "      <td>25</td>\n",
       "      <td>115</td>\n",
       "      <td>0</td>\n",
       "      <td>0</td>\n",
       "      <td>1266</td>\n",
       "      <td>27</td>\n",
       "      <td>122</td>\n",
       "      <td>41</td>\n",
       "      <td>1</td>\n",
       "    </tr>\n",
       "  </tbody>\n",
       "</table>\n",
       "</div>"
      ],
      "text/plain": [
       "Workclass          Federal-gov  Local-gov  MISSING  Never-worked  Private  \\\n",
       "Occupation                                                                  \n",
       "Adm-clerical               317        283        0             0     2833   \n",
       "Armed-Forces                 9          0        0             0        0   \n",
       "Craft-repair                64        146        0             0     3195   \n",
       "Exec-managerial            180        214        0             0     2691   \n",
       "Farming-fishing              8         29        0             0      455   \n",
       "Handlers-cleaners           23         47        0             0     1273   \n",
       "MISSING                      0          0     1836             7        0   \n",
       "Machine-op-inspct           14         12        0             0     1913   \n",
       "Other-service               35        193        0             0     2740   \n",
       "Priv-house-serv              0          0        0             0      149   \n",
       "Prof-specialty             175        705        0             0     2313   \n",
       "Protective-serv             28        304        0             0      190   \n",
       "Sales                       14          7        0             0     2942   \n",
       "Tech-support                68         38        0             0      736   \n",
       "Transport-moving            25        115        0             0     1266   \n",
       "\n",
       "Workclass          Self-emp-inc  Self-emp-not-inc  State-gov  Without-pay  \n",
       "Occupation                                                                 \n",
       "Adm-clerical                 31                50        253            3  \n",
       "Armed-Forces                  0                 0          0            0  \n",
       "Craft-repair                106               531         56            1  \n",
       "Exec-managerial             400               392        189            0  \n",
       "Farming-fishing              51               430         15            6  \n",
       "Handlers-cleaners             2                15          9            1  \n",
       "MISSING                       0                 0          0            0  \n",
       "Machine-op-inspct            13                36         13            1  \n",
       "Other-service                27               175        124            1  \n",
       "Priv-house-serv               0                 0          0            0  \n",
       "Prof-specialty              160               373        414            0  \n",
       "Protective-serv               5                 6        116            0  \n",
       "Sales                       291               385         11            0  \n",
       "Tech-support                  3                26         57            0  \n",
       "Transport-moving             27               122         41            1  "
      ]
     },
     "execution_count": 51,
     "metadata": {},
     "output_type": "execute_result"
    }
   ],
   "source": [
    "pd.crosstab(train['Occupation'], train['Workclass'])"
   ]
  },
  {
   "cell_type": "markdown",
   "metadata": {},
   "source": [
    "* Without-pay and Never-worked have hardly any observations so I'll group them with other levels. \n",
    "* Never-worked is always Missing in Occupation, so I'll group it with Missing in Workclass.\n",
    "* Without-pay has information in Occupation. I'll group it with Private since Private is the largest level and makes some sense to have it grouped with it. "
   ]
  },
  {
   "cell_type": "code",
   "execution_count": 52,
   "metadata": {},
   "outputs": [],
   "source": [
    "def WorkclassGrouping(workclass):\n",
    "    if workclass == 'Never-worked':\n",
    "        return 'MISSING'\n",
    "    elif workclass == 'Without-pay':\n",
    "        return 'Private'\n",
    "    else:\n",
    "        return workclass\n",
    "\n",
    "train['Workclass-Group'] = train['Workclass'].apply(lambda x: WorkclassGrouping(x))"
   ]
  },
  {
   "cell_type": "markdown",
   "metadata": {},
   "source": [
    "### Workclass Notes \n",
    "    \n",
    "* Workclass sees a bit of a spread, but not as pronounced as Occupation\n",
    "    * Private is by far the largest level. It also has a lower percent of people making >50K than basically every other workclass other than Missing\n",
    "    * Self-emp-inc has the highest percent of people making >50K"
   ]
  },
  {
   "cell_type": "markdown",
   "metadata": {},
   "source": [
    "## 3.L.  Capital Gain & Capital Loss"
   ]
  },
  {
   "cell_type": "code",
   "execution_count": 53,
   "metadata": {},
   "outputs": [
    {
     "data": {
      "image/png": "[encoded data removed]",
      "text/plain": [
       "<Figure size 864x360 with 2 Axes>"
      ]
     },
     "metadata": {
      "needs_background": "light"
     },
     "output_type": "display_data"
    }
   ],
   "source": [
    "# Take a quick look at how Capital Gains are distributed\n",
    "train['Capital-Gain-Thousands'] = train['Capital-Gain'].apply(lambda x: np.ceil(x/1000))\n",
    "BasicGraphs('Capital-Gain-Thousands', order_x_by_distribution=False, x_label_rotation=90)"
   ]
  },
  {
   "cell_type": "code",
   "execution_count": 54,
   "metadata": {},
   "outputs": [
    {
     "data": {
      "image/png": "[encoded data removed]",
      "text/plain": [
       "<Figure size 864x360 with 2 Axes>"
      ]
     },
     "metadata": {
      "needs_background": "light"
     },
     "output_type": "display_data"
    }
   ],
   "source": [
    "# Create simple groupings based on the graphs above. \n",
    "def CapitalGainGrouping(gain):\n",
    "    if gain == 0:\n",
    "        return '0'\n",
    "    elif gain <= 3000:\n",
    "        return '1 - 3000'\n",
    "    elif gain <= 7000:\n",
    "        return '3001 - 7000'\n",
    "    else:\n",
    "        return '>7000'\n",
    "    \n",
    "train['Capital-Gain-Group'] = train['Capital-Gain'].apply(lambda x: CapitalGainGrouping(x))\n",
    "Capital_Gain_group_order = np.sort(train['Capital-Gain-Group'].unique()).tolist()\n",
    "BasicGraphs('Capital-Gain-Group', specify_x_order=Capital_Gain_group_order, x_label_rotation=45)"
   ]
  },
  {
   "cell_type": "code",
   "execution_count": 55,
   "metadata": {},
   "outputs": [
    {
     "data": {
      "text/html": [
       "<div>\n",
       "<style scoped>\n",
       "    .dataframe tbody tr th:only-of-type {\n",
       "        vertical-align: middle;\n",
       "    }\n",
       "\n",
       "    .dataframe tbody tr th {\n",
       "        vertical-align: top;\n",
       "    }\n",
       "\n",
       "    .dataframe thead th {\n",
       "        text-align: right;\n",
       "    }\n",
       "</style>\n",
       "<table border=\"1\" class=\"dataframe\">\n",
       "  <thead>\n",
       "    <tr style=\"text-align: right;\">\n",
       "      <th>Income_Target</th>\n",
       "      <th>0</th>\n",
       "      <th>1</th>\n",
       "      <th>All</th>\n",
       "    </tr>\n",
       "    <tr>\n",
       "      <th>Capital-Gain</th>\n",
       "      <th></th>\n",
       "      <th></th>\n",
       "      <th></th>\n",
       "    </tr>\n",
       "  </thead>\n",
       "  <tbody>\n",
       "    <tr>\n",
       "      <th>0</th>\n",
       "      <td>23685</td>\n",
       "      <td>6164</td>\n",
       "      <td>29849</td>\n",
       "    </tr>\n",
       "    <tr>\n",
       "      <th>114</th>\n",
       "      <td>6</td>\n",
       "      <td>0</td>\n",
       "      <td>6</td>\n",
       "    </tr>\n",
       "    <tr>\n",
       "      <th>401</th>\n",
       "      <td>2</td>\n",
       "      <td>0</td>\n",
       "      <td>2</td>\n",
       "    </tr>\n",
       "    <tr>\n",
       "      <th>594</th>\n",
       "      <td>34</td>\n",
       "      <td>0</td>\n",
       "      <td>34</td>\n",
       "    </tr>\n",
       "    <tr>\n",
       "      <th>914</th>\n",
       "      <td>8</td>\n",
       "      <td>0</td>\n",
       "      <td>8</td>\n",
       "    </tr>\n",
       "    <tr>\n",
       "      <th>991</th>\n",
       "      <td>5</td>\n",
       "      <td>0</td>\n",
       "      <td>5</td>\n",
       "    </tr>\n",
       "    <tr>\n",
       "      <th>1055</th>\n",
       "      <td>25</td>\n",
       "      <td>0</td>\n",
       "      <td>25</td>\n",
       "    </tr>\n",
       "    <tr>\n",
       "      <th>1086</th>\n",
       "      <td>4</td>\n",
       "      <td>0</td>\n",
       "      <td>4</td>\n",
       "    </tr>\n",
       "    <tr>\n",
       "      <th>1111</th>\n",
       "      <td>1</td>\n",
       "      <td>0</td>\n",
       "      <td>1</td>\n",
       "    </tr>\n",
       "    <tr>\n",
       "      <th>1151</th>\n",
       "      <td>8</td>\n",
       "      <td>0</td>\n",
       "      <td>8</td>\n",
       "    </tr>\n",
       "    <tr>\n",
       "      <th>1173</th>\n",
       "      <td>3</td>\n",
       "      <td>0</td>\n",
       "      <td>3</td>\n",
       "    </tr>\n",
       "    <tr>\n",
       "      <th>1409</th>\n",
       "      <td>7</td>\n",
       "      <td>0</td>\n",
       "      <td>7</td>\n",
       "    </tr>\n",
       "    <tr>\n",
       "      <th>1424</th>\n",
       "      <td>3</td>\n",
       "      <td>0</td>\n",
       "      <td>3</td>\n",
       "    </tr>\n",
       "    <tr>\n",
       "      <th>1455</th>\n",
       "      <td>1</td>\n",
       "      <td>0</td>\n",
       "      <td>1</td>\n",
       "    </tr>\n",
       "    <tr>\n",
       "      <th>1471</th>\n",
       "      <td>7</td>\n",
       "      <td>0</td>\n",
       "      <td>7</td>\n",
       "    </tr>\n",
       "    <tr>\n",
       "      <th>1506</th>\n",
       "      <td>15</td>\n",
       "      <td>0</td>\n",
       "      <td>15</td>\n",
       "    </tr>\n",
       "    <tr>\n",
       "      <th>1639</th>\n",
       "      <td>1</td>\n",
       "      <td>0</td>\n",
       "      <td>1</td>\n",
       "    </tr>\n",
       "    <tr>\n",
       "      <th>1797</th>\n",
       "      <td>7</td>\n",
       "      <td>0</td>\n",
       "      <td>7</td>\n",
       "    </tr>\n",
       "    <tr>\n",
       "      <th>1831</th>\n",
       "      <td>7</td>\n",
       "      <td>0</td>\n",
       "      <td>7</td>\n",
       "    </tr>\n",
       "    <tr>\n",
       "      <th>1848</th>\n",
       "      <td>6</td>\n",
       "      <td>0</td>\n",
       "      <td>6</td>\n",
       "    </tr>\n",
       "    <tr>\n",
       "      <th>2009</th>\n",
       "      <td>3</td>\n",
       "      <td>0</td>\n",
       "      <td>3</td>\n",
       "    </tr>\n",
       "    <tr>\n",
       "      <th>2036</th>\n",
       "      <td>4</td>\n",
       "      <td>0</td>\n",
       "      <td>4</td>\n",
       "    </tr>\n",
       "    <tr>\n",
       "      <th>2050</th>\n",
       "      <td>5</td>\n",
       "      <td>0</td>\n",
       "      <td>5</td>\n",
       "    </tr>\n",
       "    <tr>\n",
       "      <th>2062</th>\n",
       "      <td>2</td>\n",
       "      <td>0</td>\n",
       "      <td>2</td>\n",
       "    </tr>\n",
       "    <tr>\n",
       "      <th>2105</th>\n",
       "      <td>9</td>\n",
       "      <td>0</td>\n",
       "      <td>9</td>\n",
       "    </tr>\n",
       "    <tr>\n",
       "      <th>2174</th>\n",
       "      <td>48</td>\n",
       "      <td>0</td>\n",
       "      <td>48</td>\n",
       "    </tr>\n",
       "    <tr>\n",
       "      <th>2176</th>\n",
       "      <td>23</td>\n",
       "      <td>0</td>\n",
       "      <td>23</td>\n",
       "    </tr>\n",
       "    <tr>\n",
       "      <th>2202</th>\n",
       "      <td>16</td>\n",
       "      <td>0</td>\n",
       "      <td>16</td>\n",
       "    </tr>\n",
       "    <tr>\n",
       "      <th>2228</th>\n",
       "      <td>5</td>\n",
       "      <td>0</td>\n",
       "      <td>5</td>\n",
       "    </tr>\n",
       "    <tr>\n",
       "      <th>2290</th>\n",
       "      <td>5</td>\n",
       "      <td>0</td>\n",
       "      <td>5</td>\n",
       "    </tr>\n",
       "    <tr>\n",
       "      <th>2329</th>\n",
       "      <td>6</td>\n",
       "      <td>0</td>\n",
       "      <td>6</td>\n",
       "    </tr>\n",
       "    <tr>\n",
       "      <th>2346</th>\n",
       "      <td>6</td>\n",
       "      <td>0</td>\n",
       "      <td>6</td>\n",
       "    </tr>\n",
       "    <tr>\n",
       "      <th>2354</th>\n",
       "      <td>11</td>\n",
       "      <td>0</td>\n",
       "      <td>11</td>\n",
       "    </tr>\n",
       "    <tr>\n",
       "      <th>2387</th>\n",
       "      <td>1</td>\n",
       "      <td>0</td>\n",
       "      <td>1</td>\n",
       "    </tr>\n",
       "    <tr>\n",
       "      <th>2407</th>\n",
       "      <td>19</td>\n",
       "      <td>0</td>\n",
       "      <td>19</td>\n",
       "    </tr>\n",
       "    <tr>\n",
       "      <th>2414</th>\n",
       "      <td>8</td>\n",
       "      <td>0</td>\n",
       "      <td>8</td>\n",
       "    </tr>\n",
       "    <tr>\n",
       "      <th>2463</th>\n",
       "      <td>11</td>\n",
       "      <td>0</td>\n",
       "      <td>11</td>\n",
       "    </tr>\n",
       "    <tr>\n",
       "      <th>2538</th>\n",
       "      <td>1</td>\n",
       "      <td>0</td>\n",
       "      <td>1</td>\n",
       "    </tr>\n",
       "    <tr>\n",
       "      <th>2580</th>\n",
       "      <td>12</td>\n",
       "      <td>0</td>\n",
       "      <td>12</td>\n",
       "    </tr>\n",
       "    <tr>\n",
       "      <th>2597</th>\n",
       "      <td>20</td>\n",
       "      <td>0</td>\n",
       "      <td>20</td>\n",
       "    </tr>\n",
       "    <tr>\n",
       "      <th>2635</th>\n",
       "      <td>11</td>\n",
       "      <td>0</td>\n",
       "      <td>11</td>\n",
       "    </tr>\n",
       "    <tr>\n",
       "      <th>2653</th>\n",
       "      <td>5</td>\n",
       "      <td>0</td>\n",
       "      <td>5</td>\n",
       "    </tr>\n",
       "    <tr>\n",
       "      <th>2829</th>\n",
       "      <td>31</td>\n",
       "      <td>0</td>\n",
       "      <td>31</td>\n",
       "    </tr>\n",
       "    <tr>\n",
       "      <th>2885</th>\n",
       "      <td>24</td>\n",
       "      <td>0</td>\n",
       "      <td>24</td>\n",
       "    </tr>\n",
       "    <tr>\n",
       "      <th>2907</th>\n",
       "      <td>11</td>\n",
       "      <td>0</td>\n",
       "      <td>11</td>\n",
       "    </tr>\n",
       "    <tr>\n",
       "      <th>2936</th>\n",
       "      <td>3</td>\n",
       "      <td>0</td>\n",
       "      <td>3</td>\n",
       "    </tr>\n",
       "    <tr>\n",
       "      <th>2961</th>\n",
       "      <td>3</td>\n",
       "      <td>0</td>\n",
       "      <td>3</td>\n",
       "    </tr>\n",
       "    <tr>\n",
       "      <th>2964</th>\n",
       "      <td>9</td>\n",
       "      <td>0</td>\n",
       "      <td>9</td>\n",
       "    </tr>\n",
       "    <tr>\n",
       "      <th>2977</th>\n",
       "      <td>8</td>\n",
       "      <td>0</td>\n",
       "      <td>8</td>\n",
       "    </tr>\n",
       "    <tr>\n",
       "      <th>2993</th>\n",
       "      <td>2</td>\n",
       "      <td>0</td>\n",
       "      <td>2</td>\n",
       "    </tr>\n",
       "    <tr>\n",
       "      <th>3103</th>\n",
       "      <td>7</td>\n",
       "      <td>90</td>\n",
       "      <td>97</td>\n",
       "    </tr>\n",
       "    <tr>\n",
       "      <th>3137</th>\n",
       "      <td>37</td>\n",
       "      <td>0</td>\n",
       "      <td>37</td>\n",
       "    </tr>\n",
       "    <tr>\n",
       "      <th>3273</th>\n",
       "      <td>6</td>\n",
       "      <td>0</td>\n",
       "      <td>6</td>\n",
       "    </tr>\n",
       "    <tr>\n",
       "      <th>3325</th>\n",
       "      <td>53</td>\n",
       "      <td>0</td>\n",
       "      <td>53</td>\n",
       "    </tr>\n",
       "    <tr>\n",
       "      <th>3411</th>\n",
       "      <td>24</td>\n",
       "      <td>0</td>\n",
       "      <td>24</td>\n",
       "    </tr>\n",
       "    <tr>\n",
       "      <th>3418</th>\n",
       "      <td>5</td>\n",
       "      <td>0</td>\n",
       "      <td>5</td>\n",
       "    </tr>\n",
       "    <tr>\n",
       "      <th>3432</th>\n",
       "      <td>4</td>\n",
       "      <td>0</td>\n",
       "      <td>4</td>\n",
       "    </tr>\n",
       "    <tr>\n",
       "      <th>3456</th>\n",
       "      <td>2</td>\n",
       "      <td>0</td>\n",
       "      <td>2</td>\n",
       "    </tr>\n",
       "    <tr>\n",
       "      <th>3464</th>\n",
       "      <td>23</td>\n",
       "      <td>0</td>\n",
       "      <td>23</td>\n",
       "    </tr>\n",
       "    <tr>\n",
       "      <th>3471</th>\n",
       "      <td>8</td>\n",
       "      <td>0</td>\n",
       "      <td>8</td>\n",
       "    </tr>\n",
       "    <tr>\n",
       "      <th>3674</th>\n",
       "      <td>14</td>\n",
       "      <td>0</td>\n",
       "      <td>14</td>\n",
       "    </tr>\n",
       "    <tr>\n",
       "      <th>3781</th>\n",
       "      <td>12</td>\n",
       "      <td>0</td>\n",
       "      <td>12</td>\n",
       "    </tr>\n",
       "    <tr>\n",
       "      <th>3818</th>\n",
       "      <td>7</td>\n",
       "      <td>0</td>\n",
       "      <td>7</td>\n",
       "    </tr>\n",
       "    <tr>\n",
       "      <th>3887</th>\n",
       "      <td>6</td>\n",
       "      <td>0</td>\n",
       "      <td>6</td>\n",
       "    </tr>\n",
       "    <tr>\n",
       "      <th>3908</th>\n",
       "      <td>32</td>\n",
       "      <td>0</td>\n",
       "      <td>32</td>\n",
       "    </tr>\n",
       "    <tr>\n",
       "      <th>3942</th>\n",
       "      <td>14</td>\n",
       "      <td>0</td>\n",
       "      <td>14</td>\n",
       "    </tr>\n",
       "    <tr>\n",
       "      <th>4064</th>\n",
       "      <td>42</td>\n",
       "      <td>0</td>\n",
       "      <td>42</td>\n",
       "    </tr>\n",
       "    <tr>\n",
       "      <th>4101</th>\n",
       "      <td>20</td>\n",
       "      <td>0</td>\n",
       "      <td>20</td>\n",
       "    </tr>\n",
       "    <tr>\n",
       "      <th>4386</th>\n",
       "      <td>12</td>\n",
       "      <td>58</td>\n",
       "      <td>70</td>\n",
       "    </tr>\n",
       "    <tr>\n",
       "      <th>4416</th>\n",
       "      <td>12</td>\n",
       "      <td>0</td>\n",
       "      <td>12</td>\n",
       "    </tr>\n",
       "    <tr>\n",
       "      <th>4508</th>\n",
       "      <td>12</td>\n",
       "      <td>0</td>\n",
       "      <td>12</td>\n",
       "    </tr>\n",
       "    <tr>\n",
       "      <th>4650</th>\n",
       "      <td>41</td>\n",
       "      <td>0</td>\n",
       "      <td>41</td>\n",
       "    </tr>\n",
       "    <tr>\n",
       "      <th>4687</th>\n",
       "      <td>0</td>\n",
       "      <td>3</td>\n",
       "      <td>3</td>\n",
       "    </tr>\n",
       "    <tr>\n",
       "      <th>4787</th>\n",
       "      <td>0</td>\n",
       "      <td>23</td>\n",
       "      <td>23</td>\n",
       "    </tr>\n",
       "    <tr>\n",
       "      <th>4865</th>\n",
       "      <td>17</td>\n",
       "      <td>0</td>\n",
       "      <td>17</td>\n",
       "    </tr>\n",
       "    <tr>\n",
       "      <th>4931</th>\n",
       "      <td>1</td>\n",
       "      <td>0</td>\n",
       "      <td>1</td>\n",
       "    </tr>\n",
       "    <tr>\n",
       "      <th>4934</th>\n",
       "      <td>0</td>\n",
       "      <td>7</td>\n",
       "      <td>7</td>\n",
       "    </tr>\n",
       "    <tr>\n",
       "      <th>5013</th>\n",
       "      <td>69</td>\n",
       "      <td>0</td>\n",
       "      <td>69</td>\n",
       "    </tr>\n",
       "    <tr>\n",
       "      <th>5060</th>\n",
       "      <td>1</td>\n",
       "      <td>0</td>\n",
       "      <td>1</td>\n",
       "    </tr>\n",
       "    <tr>\n",
       "      <th>5178</th>\n",
       "      <td>0</td>\n",
       "      <td>97</td>\n",
       "      <td>97</td>\n",
       "    </tr>\n",
       "    <tr>\n",
       "      <th>5455</th>\n",
       "      <td>11</td>\n",
       "      <td>0</td>\n",
       "      <td>11</td>\n",
       "    </tr>\n",
       "    <tr>\n",
       "      <th>5556</th>\n",
       "      <td>0</td>\n",
       "      <td>5</td>\n",
       "      <td>5</td>\n",
       "    </tr>\n",
       "    <tr>\n",
       "      <th>5721</th>\n",
       "      <td>3</td>\n",
       "      <td>0</td>\n",
       "      <td>3</td>\n",
       "    </tr>\n",
       "    <tr>\n",
       "      <th>6097</th>\n",
       "      <td>0</td>\n",
       "      <td>1</td>\n",
       "      <td>1</td>\n",
       "    </tr>\n",
       "    <tr>\n",
       "      <th>6360</th>\n",
       "      <td>3</td>\n",
       "      <td>0</td>\n",
       "      <td>3</td>\n",
       "    </tr>\n",
       "    <tr>\n",
       "      <th>6418</th>\n",
       "      <td>0</td>\n",
       "      <td>9</td>\n",
       "      <td>9</td>\n",
       "    </tr>\n",
       "    <tr>\n",
       "      <th>6497</th>\n",
       "      <td>11</td>\n",
       "      <td>0</td>\n",
       "      <td>11</td>\n",
       "    </tr>\n",
       "    <tr>\n",
       "      <th>6514</th>\n",
       "      <td>0</td>\n",
       "      <td>5</td>\n",
       "      <td>5</td>\n",
       "    </tr>\n",
       "    <tr>\n",
       "      <th>6723</th>\n",
       "      <td>2</td>\n",
       "      <td>0</td>\n",
       "      <td>2</td>\n",
       "    </tr>\n",
       "    <tr>\n",
       "      <th>6767</th>\n",
       "      <td>5</td>\n",
       "      <td>0</td>\n",
       "      <td>5</td>\n",
       "    </tr>\n",
       "    <tr>\n",
       "      <th>6849</th>\n",
       "      <td>27</td>\n",
       "      <td>0</td>\n",
       "      <td>27</td>\n",
       "    </tr>\n",
       "    <tr>\n",
       "      <th>7298</th>\n",
       "      <td>0</td>\n",
       "      <td>246</td>\n",
       "      <td>246</td>\n",
       "    </tr>\n",
       "    <tr>\n",
       "      <th>7430</th>\n",
       "      <td>0</td>\n",
       "      <td>9</td>\n",
       "      <td>9</td>\n",
       "    </tr>\n",
       "    <tr>\n",
       "      <th>7443</th>\n",
       "      <td>5</td>\n",
       "      <td>0</td>\n",
       "      <td>5</td>\n",
       "    </tr>\n",
       "    <tr>\n",
       "      <th>7688</th>\n",
       "      <td>0</td>\n",
       "      <td>284</td>\n",
       "      <td>284</td>\n",
       "    </tr>\n",
       "    <tr>\n",
       "      <th>7896</th>\n",
       "      <td>0</td>\n",
       "      <td>3</td>\n",
       "      <td>3</td>\n",
       "    </tr>\n",
       "    <tr>\n",
       "      <th>7978</th>\n",
       "      <td>1</td>\n",
       "      <td>0</td>\n",
       "      <td>1</td>\n",
       "    </tr>\n",
       "    <tr>\n",
       "      <th>8614</th>\n",
       "      <td>0</td>\n",
       "      <td>55</td>\n",
       "      <td>55</td>\n",
       "    </tr>\n",
       "    <tr>\n",
       "      <th>9386</th>\n",
       "      <td>0</td>\n",
       "      <td>22</td>\n",
       "      <td>22</td>\n",
       "    </tr>\n",
       "    <tr>\n",
       "      <th>9562</th>\n",
       "      <td>0</td>\n",
       "      <td>4</td>\n",
       "      <td>4</td>\n",
       "    </tr>\n",
       "    <tr>\n",
       "      <th>10520</th>\n",
       "      <td>0</td>\n",
       "      <td>43</td>\n",
       "      <td>43</td>\n",
       "    </tr>\n",
       "    <tr>\n",
       "      <th>10566</th>\n",
       "      <td>6</td>\n",
       "      <td>0</td>\n",
       "      <td>6</td>\n",
       "    </tr>\n",
       "    <tr>\n",
       "      <th>10605</th>\n",
       "      <td>0</td>\n",
       "      <td>12</td>\n",
       "      <td>12</td>\n",
       "    </tr>\n",
       "    <tr>\n",
       "      <th>11678</th>\n",
       "      <td>0</td>\n",
       "      <td>2</td>\n",
       "      <td>2</td>\n",
       "    </tr>\n",
       "    <tr>\n",
       "      <th>13550</th>\n",
       "      <td>0</td>\n",
       "      <td>27</td>\n",
       "      <td>27</td>\n",
       "    </tr>\n",
       "    <tr>\n",
       "      <th>14084</th>\n",
       "      <td>0</td>\n",
       "      <td>41</td>\n",
       "      <td>41</td>\n",
       "    </tr>\n",
       "    <tr>\n",
       "      <th>14344</th>\n",
       "      <td>0</td>\n",
       "      <td>26</td>\n",
       "      <td>26</td>\n",
       "    </tr>\n",
       "    <tr>\n",
       "      <th>15020</th>\n",
       "      <td>0</td>\n",
       "      <td>5</td>\n",
       "      <td>5</td>\n",
       "    </tr>\n",
       "    <tr>\n",
       "      <th>15024</th>\n",
       "      <td>0</td>\n",
       "      <td>347</td>\n",
       "      <td>347</td>\n",
       "    </tr>\n",
       "    <tr>\n",
       "      <th>15831</th>\n",
       "      <td>0</td>\n",
       "      <td>6</td>\n",
       "      <td>6</td>\n",
       "    </tr>\n",
       "    <tr>\n",
       "      <th>18481</th>\n",
       "      <td>0</td>\n",
       "      <td>2</td>\n",
       "      <td>2</td>\n",
       "    </tr>\n",
       "    <tr>\n",
       "      <th>20051</th>\n",
       "      <td>0</td>\n",
       "      <td>37</td>\n",
       "      <td>37</td>\n",
       "    </tr>\n",
       "    <tr>\n",
       "      <th>22040</th>\n",
       "      <td>1</td>\n",
       "      <td>0</td>\n",
       "      <td>1</td>\n",
       "    </tr>\n",
       "    <tr>\n",
       "      <th>25124</th>\n",
       "      <td>0</td>\n",
       "      <td>4</td>\n",
       "      <td>4</td>\n",
       "    </tr>\n",
       "    <tr>\n",
       "      <th>25236</th>\n",
       "      <td>0</td>\n",
       "      <td>11</td>\n",
       "      <td>11</td>\n",
       "    </tr>\n",
       "    <tr>\n",
       "      <th>27828</th>\n",
       "      <td>0</td>\n",
       "      <td>34</td>\n",
       "      <td>34</td>\n",
       "    </tr>\n",
       "    <tr>\n",
       "      <th>34095</th>\n",
       "      <td>5</td>\n",
       "      <td>0</td>\n",
       "      <td>5</td>\n",
       "    </tr>\n",
       "    <tr>\n",
       "      <th>41310</th>\n",
       "      <td>2</td>\n",
       "      <td>0</td>\n",
       "      <td>2</td>\n",
       "    </tr>\n",
       "    <tr>\n",
       "      <th>99999</th>\n",
       "      <td>0</td>\n",
       "      <td>159</td>\n",
       "      <td>159</td>\n",
       "    </tr>\n",
       "    <tr>\n",
       "      <th>All</th>\n",
       "      <td>24720</td>\n",
       "      <td>7841</td>\n",
       "      <td>32561</td>\n",
       "    </tr>\n",
       "  </tbody>\n",
       "</table>\n",
       "</div>"
      ],
      "text/plain": [
       "Income_Target      0     1    All\n",
       "Capital-Gain                     \n",
       "0              23685  6164  29849\n",
       "114                6     0      6\n",
       "401                2     0      2\n",
       "594               34     0     34\n",
       "914                8     0      8\n",
       "991                5     0      5\n",
       "1055              25     0     25\n",
       "1086               4     0      4\n",
       "1111               1     0      1\n",
       "1151               8     0      8\n",
       "1173               3     0      3\n",
       "1409               7     0      7\n",
       "1424               3     0      3\n",
       "1455               1     0      1\n",
       "1471               7     0      7\n",
       "1506              15     0     15\n",
       "1639               1     0      1\n",
       "1797               7     0      7\n",
       "1831               7     0      7\n",
       "1848               6     0      6\n",
       "2009               3     0      3\n",
       "2036               4     0      4\n",
       "2050               5     0      5\n",
       "2062               2     0      2\n",
       "2105               9     0      9\n",
       "2174              48     0     48\n",
       "2176              23     0     23\n",
       "2202              16     0     16\n",
       "2228               5     0      5\n",
       "2290               5     0      5\n",
       "2329               6     0      6\n",
       "2346               6     0      6\n",
       "2354              11     0     11\n",
       "2387               1     0      1\n",
       "2407              19     0     19\n",
       "2414               8     0      8\n",
       "2463              11     0     11\n",
       "2538               1     0      1\n",
       "2580              12     0     12\n",
       "2597              20     0     20\n",
       "2635              11     0     11\n",
       "2653               5     0      5\n",
       "2829              31     0     31\n",
       "2885              24     0     24\n",
       "2907              11     0     11\n",
       "2936               3     0      3\n",
       "2961               3     0      3\n",
       "2964               9     0      9\n",
       "2977               8     0      8\n",
       "2993               2     0      2\n",
       "3103               7    90     97\n",
       "3137              37     0     37\n",
       "3273               6     0      6\n",
       "3325              53     0     53\n",
       "3411              24     0     24\n",
       "3418               5     0      5\n",
       "3432               4     0      4\n",
       "3456               2     0      2\n",
       "3464              23     0     23\n",
       "3471               8     0      8\n",
       "3674              14     0     14\n",
       "3781              12     0     12\n",
       "3818               7     0      7\n",
       "3887               6     0      6\n",
       "3908              32     0     32\n",
       "3942              14     0     14\n",
       "4064              42     0     42\n",
       "4101              20     0     20\n",
       "4386              12    58     70\n",
       "4416              12     0     12\n",
       "4508              12     0     12\n",
       "4650              41     0     41\n",
       "4687               0     3      3\n",
       "4787               0    23     23\n",
       "4865              17     0     17\n",
       "4931               1     0      1\n",
       "4934               0     7      7\n",
       "5013              69     0     69\n",
       "5060               1     0      1\n",
       "5178               0    97     97\n",
       "5455              11     0     11\n",
       "5556               0     5      5\n",
       "5721               3     0      3\n",
       "6097               0     1      1\n",
       "6360               3     0      3\n",
       "6418               0     9      9\n",
       "6497              11     0     11\n",
       "6514               0     5      5\n",
       "6723               2     0      2\n",
       "6767               5     0      5\n",
       "6849              27     0     27\n",
       "7298               0   246    246\n",
       "7430               0     9      9\n",
       "7443               5     0      5\n",
       "7688               0   284    284\n",
       "7896               0     3      3\n",
       "7978               1     0      1\n",
       "8614               0    55     55\n",
       "9386               0    22     22\n",
       "9562               0     4      4\n",
       "10520              0    43     43\n",
       "10566              6     0      6\n",
       "10605              0    12     12\n",
       "11678              0     2      2\n",
       "13550              0    27     27\n",
       "14084              0    41     41\n",
       "14344              0    26     26\n",
       "15020              0     5      5\n",
       "15024              0   347    347\n",
       "15831              0     6      6\n",
       "18481              0     2      2\n",
       "20051              0    37     37\n",
       "22040              1     0      1\n",
       "25124              0     4      4\n",
       "25236              0    11     11\n",
       "27828              0    34     34\n",
       "34095              5     0      5\n",
       "41310              2     0      2\n",
       "99999              0   159    159\n",
       "All            24720  7841  32561"
      ]
     },
     "execution_count": 55,
     "metadata": {},
     "output_type": "execute_result"
    }
   ],
   "source": [
    "# There's some interesting behavior going on. Let's take a closer look.\n",
    "pd.options.display.max_rows = 999\n",
    "cg = pd.crosstab(train['Capital-Gain'], train['Income_Target'], margins=True)\n",
    "cg"
   ]
  },
  {
   "cell_type": "code",
   "execution_count": 56,
   "metadata": {},
   "outputs": [
    {
     "data": {
      "image/png": "[encoded data removed]",
      "text/plain": [
       "<Figure size 864x360 with 2 Axes>"
      ]
     },
     "metadata": {
      "needs_background": "light"
     },
     "output_type": "display_data"
    }
   ],
   "source": [
    "# There are some surprising results when looking at how Income is split by capital gain level.\n",
    "# Create some groupings to better visualize this\n",
    "def CapitalGainGrouping(gain):\n",
    "    if gain == 0:\n",
    "        return '0'\n",
    "    elif gain < 3103:\n",
    "        return '1 - 3102'\n",
    "    elif gain == 3103:\n",
    "        return '3103'\n",
    "    elif gain < 4386:\n",
    "        return '3104 - 4385'\n",
    "    elif gain < 7000:\n",
    "        return '4386 - 7000' \n",
    "    else:\n",
    "        return '>7000'\n",
    "    \n",
    "train['Capital-Gain-Group'] = train['Capital-Gain'].apply(lambda x: CapitalGainGrouping(x))\n",
    "Capital_Gain_group_order = np.sort(train['Capital-Gain-Group'].unique()).tolist()\n",
    "BasicGraphs('Capital-Gain-Group', specify_x_order=Capital_Gain_group_order, x_label_rotation=90)"
   ]
  },
  {
   "cell_type": "code",
   "execution_count": 57,
   "metadata": {},
   "outputs": [
    {
     "data": {
      "text/html": [
       "<div>\n",
       "<style scoped>\n",
       "    .dataframe tbody tr th:only-of-type {\n",
       "        vertical-align: middle;\n",
       "    }\n",
       "\n",
       "    .dataframe tbody tr th {\n",
       "        vertical-align: top;\n",
       "    }\n",
       "\n",
       "    .dataframe thead th {\n",
       "        text-align: right;\n",
       "    }\n",
       "</style>\n",
       "<table border=\"1\" class=\"dataframe\">\n",
       "  <thead>\n",
       "    <tr style=\"text-align: right;\">\n",
       "      <th>Income_Target</th>\n",
       "      <th>0</th>\n",
       "      <th>1</th>\n",
       "    </tr>\n",
       "    <tr>\n",
       "      <th>Capital-Gain-Group</th>\n",
       "      <th></th>\n",
       "      <th></th>\n",
       "    </tr>\n",
       "  </thead>\n",
       "  <tbody>\n",
       "    <tr>\n",
       "      <th>0</th>\n",
       "      <td>23685</td>\n",
       "      <td>6164</td>\n",
       "    </tr>\n",
       "    <tr>\n",
       "      <th>1 - 3102</th>\n",
       "      <td>472</td>\n",
       "      <td>0</td>\n",
       "    </tr>\n",
       "    <tr>\n",
       "      <th>3103</th>\n",
       "      <td>7</td>\n",
       "      <td>90</td>\n",
       "    </tr>\n",
       "    <tr>\n",
       "      <th>3104 - 4385</th>\n",
       "      <td>309</td>\n",
       "      <td>0</td>\n",
       "    </tr>\n",
       "    <tr>\n",
       "      <th>4386 - 7000</th>\n",
       "      <td>227</td>\n",
       "      <td>208</td>\n",
       "    </tr>\n",
       "    <tr>\n",
       "      <th>&gt;7000</th>\n",
       "      <td>20</td>\n",
       "      <td>1379</td>\n",
       "    </tr>\n",
       "  </tbody>\n",
       "</table>\n",
       "</div>"
      ],
      "text/plain": [
       "Income_Target           0     1\n",
       "Capital-Gain-Group             \n",
       "0                   23685  6164\n",
       "1 - 3102              472     0\n",
       "3103                    7    90\n",
       "3104 - 4385           309     0\n",
       "4386 - 7000           227   208\n",
       ">7000                  20  1379"
      ]
     },
     "execution_count": 57,
     "metadata": {},
     "output_type": "execute_result"
    }
   ],
   "source": [
    "pd.crosstab(train['Capital-Gain-Group'], train['Income_Target'])"
   ]
  },
  {
   "cell_type": "code",
   "execution_count": 58,
   "metadata": {},
   "outputs": [
    {
     "data": {
      "text/html": [
       "<div>\n",
       "<style scoped>\n",
       "    .dataframe tbody tr th:only-of-type {\n",
       "        vertical-align: middle;\n",
       "    }\n",
       "\n",
       "    .dataframe tbody tr th {\n",
       "        vertical-align: top;\n",
       "    }\n",
       "\n",
       "    .dataframe thead th {\n",
       "        text-align: right;\n",
       "    }\n",
       "</style>\n",
       "<table border=\"1\" class=\"dataframe\">\n",
       "  <thead>\n",
       "    <tr style=\"text-align: right;\">\n",
       "      <th>Income_Target</th>\n",
       "      <th>0</th>\n",
       "      <th>1</th>\n",
       "      <th>All</th>\n",
       "    </tr>\n",
       "    <tr>\n",
       "      <th>Capital-Gain</th>\n",
       "      <th></th>\n",
       "      <th></th>\n",
       "      <th></th>\n",
       "    </tr>\n",
       "  </thead>\n",
       "  <tbody>\n",
       "    <tr>\n",
       "      <th>All</th>\n",
       "      <td>24720</td>\n",
       "      <td>7841</td>\n",
       "      <td>32561</td>\n",
       "    </tr>\n",
       "    <tr>\n",
       "      <th>0</th>\n",
       "      <td>23685</td>\n",
       "      <td>6164</td>\n",
       "      <td>29849</td>\n",
       "    </tr>\n",
       "    <tr>\n",
       "      <th>15024</th>\n",
       "      <td>0</td>\n",
       "      <td>347</td>\n",
       "      <td>347</td>\n",
       "    </tr>\n",
       "    <tr>\n",
       "      <th>7688</th>\n",
       "      <td>0</td>\n",
       "      <td>284</td>\n",
       "      <td>284</td>\n",
       "    </tr>\n",
       "    <tr>\n",
       "      <th>7298</th>\n",
       "      <td>0</td>\n",
       "      <td>246</td>\n",
       "      <td>246</td>\n",
       "    </tr>\n",
       "    <tr>\n",
       "      <th>99999</th>\n",
       "      <td>0</td>\n",
       "      <td>159</td>\n",
       "      <td>159</td>\n",
       "    </tr>\n",
       "    <tr>\n",
       "      <th>3103</th>\n",
       "      <td>7</td>\n",
       "      <td>90</td>\n",
       "      <td>97</td>\n",
       "    </tr>\n",
       "    <tr>\n",
       "      <th>5178</th>\n",
       "      <td>0</td>\n",
       "      <td>97</td>\n",
       "      <td>97</td>\n",
       "    </tr>\n",
       "    <tr>\n",
       "      <th>4386</th>\n",
       "      <td>12</td>\n",
       "      <td>58</td>\n",
       "      <td>70</td>\n",
       "    </tr>\n",
       "    <tr>\n",
       "      <th>5013</th>\n",
       "      <td>69</td>\n",
       "      <td>0</td>\n",
       "      <td>69</td>\n",
       "    </tr>\n",
       "    <tr>\n",
       "      <th>8614</th>\n",
       "      <td>0</td>\n",
       "      <td>55</td>\n",
       "      <td>55</td>\n",
       "    </tr>\n",
       "    <tr>\n",
       "      <th>3325</th>\n",
       "      <td>53</td>\n",
       "      <td>0</td>\n",
       "      <td>53</td>\n",
       "    </tr>\n",
       "    <tr>\n",
       "      <th>2174</th>\n",
       "      <td>48</td>\n",
       "      <td>0</td>\n",
       "      <td>48</td>\n",
       "    </tr>\n",
       "    <tr>\n",
       "      <th>10520</th>\n",
       "      <td>0</td>\n",
       "      <td>43</td>\n",
       "      <td>43</td>\n",
       "    </tr>\n",
       "    <tr>\n",
       "      <th>4064</th>\n",
       "      <td>42</td>\n",
       "      <td>0</td>\n",
       "      <td>42</td>\n",
       "    </tr>\n",
       "  </tbody>\n",
       "</table>\n",
       "</div>"
      ],
      "text/plain": [
       "Income_Target      0     1    All\n",
       "Capital-Gain                     \n",
       "All            24720  7841  32561\n",
       "0              23685  6164  29849\n",
       "15024              0   347    347\n",
       "7688               0   284    284\n",
       "7298               0   246    246\n",
       "99999              0   159    159\n",
       "3103               7    90     97\n",
       "5178               0    97     97\n",
       "4386              12    58     70\n",
       "5013              69     0     69\n",
       "8614               0    55     55\n",
       "3325              53     0     53\n",
       "2174              48     0     48\n",
       "10520              0    43     43\n",
       "4064              42     0     42"
      ]
     },
     "execution_count": 58,
     "metadata": {},
     "output_type": "execute_result"
    }
   ],
   "source": [
    "# There are a lot of levels where there are lots of people making >50K with very few people making <=50K. \n",
    "# It looks like Capital Gain is fairly binary for a given level. \n",
    "# Grouping based on the majority of the Income_Target count for a given level could be a way to create groupings. \n",
    "cg.sort_values(by=['All'], ascending=False).head(15)"
   ]
  },
  {
   "cell_type": "markdown",
   "metadata": {},
   "source": [
    "### Capital Losses"
   ]
  },
  {
   "cell_type": "code",
   "execution_count": 59,
   "metadata": {},
   "outputs": [
    {
     "data": {
      "image/png": "[encoded data removed]",
      "text/plain": [
       "<Figure size 864x360 with 2 Axes>"
      ]
     },
     "metadata": {
      "needs_background": "light"
     },
     "output_type": "display_data"
    }
   ],
   "source": [
    "# Take a quick look at how Capital Losses are distributed\n",
    "train['Capital-Loss-Hundreds'] = train['Capital-Loss'].apply(lambda x: np.ceil(x/100))\n",
    "BasicGraphs('Capital-Loss-Hundreds', order_x_by_distribution=False, x_label_rotation=90)"
   ]
  },
  {
   "cell_type": "code",
   "execution_count": 60,
   "metadata": {},
   "outputs": [
    {
     "data": {
      "image/png": "[encoded data removed]",
      "text/plain": [
       "<Figure size 864x360 with 2 Axes>"
      ]
     },
     "metadata": {
      "needs_background": "light"
     },
     "output_type": "display_data"
    }
   ],
   "source": [
    "# Create simple groupings based on the graphs above. \n",
    "def CapitalLossGrouping(gain):\n",
    "    if gain == 0:\n",
    "        return '0'\n",
    "    elif gain <= 1800:\n",
    "        return '1 - 1800'\n",
    "    else:\n",
    "        return '>1800'\n",
    "    \n",
    "train['Capital-Loss-Group'] = train['Capital-Loss'].apply(lambda x: CapitalLossGrouping(x))\n",
    "Capital_Loss_group_order = np.sort(train['Capital-Loss-Group'].unique()).tolist()\n",
    "BasicGraphs('Capital-Loss-Group', specify_x_order=Capital_Loss_group_order, x_label_rotation=45)"
   ]
  },
  {
   "cell_type": "code",
   "execution_count": 62,
   "metadata": {},
   "outputs": [
    {
     "data": {
      "text/html": [
       "<div>\n",
       "<style scoped>\n",
       "    .dataframe tbody tr th:only-of-type {\n",
       "        vertical-align: middle;\n",
       "    }\n",
       "\n",
       "    .dataframe tbody tr th {\n",
       "        vertical-align: top;\n",
       "    }\n",
       "\n",
       "    .dataframe thead th {\n",
       "        text-align: right;\n",
       "    }\n",
       "</style>\n",
       "<table border=\"1\" class=\"dataframe\">\n",
       "  <thead>\n",
       "    <tr style=\"text-align: right;\">\n",
       "      <th>Income_Target</th>\n",
       "      <th>0</th>\n",
       "      <th>1</th>\n",
       "      <th>All</th>\n",
       "    </tr>\n",
       "    <tr>\n",
       "      <th>Capital-Loss</th>\n",
       "      <th></th>\n",
       "      <th></th>\n",
       "      <th></th>\n",
       "    </tr>\n",
       "  </thead>\n",
       "  <tbody>\n",
       "    <tr>\n",
       "      <th>All</th>\n",
       "      <td>24720</td>\n",
       "      <td>7841</td>\n",
       "      <td>32561</td>\n",
       "    </tr>\n",
       "    <tr>\n",
       "      <th>0</th>\n",
       "      <td>23974</td>\n",
       "      <td>7068</td>\n",
       "      <td>31042</td>\n",
       "    </tr>\n",
       "    <tr>\n",
       "      <th>1902</th>\n",
       "      <td>13</td>\n",
       "      <td>189</td>\n",
       "      <td>202</td>\n",
       "    </tr>\n",
       "    <tr>\n",
       "      <th>1977</th>\n",
       "      <td>0</td>\n",
       "      <td>168</td>\n",
       "      <td>168</td>\n",
       "    </tr>\n",
       "    <tr>\n",
       "      <th>1887</th>\n",
       "      <td>0</td>\n",
       "      <td>159</td>\n",
       "      <td>159</td>\n",
       "    </tr>\n",
       "    <tr>\n",
       "      <th>1848</th>\n",
       "      <td>0</td>\n",
       "      <td>51</td>\n",
       "      <td>51</td>\n",
       "    </tr>\n",
       "    <tr>\n",
       "      <th>1485</th>\n",
       "      <td>20</td>\n",
       "      <td>31</td>\n",
       "      <td>51</td>\n",
       "    </tr>\n",
       "    <tr>\n",
       "      <th>2415</th>\n",
       "      <td>0</td>\n",
       "      <td>49</td>\n",
       "      <td>49</td>\n",
       "    </tr>\n",
       "    <tr>\n",
       "      <th>1602</th>\n",
       "      <td>47</td>\n",
       "      <td>0</td>\n",
       "      <td>47</td>\n",
       "    </tr>\n",
       "    <tr>\n",
       "      <th>1740</th>\n",
       "      <td>42</td>\n",
       "      <td>0</td>\n",
       "      <td>42</td>\n",
       "    </tr>\n",
       "  </tbody>\n",
       "</table>\n",
       "</div>"
      ],
      "text/plain": [
       "Income_Target      0     1    All\n",
       "Capital-Loss                     \n",
       "All            24720  7841  32561\n",
       "0              23974  7068  31042\n",
       "1902              13   189    202\n",
       "1977               0   168    168\n",
       "1887               0   159    159\n",
       "1848               0    51     51\n",
       "1485              20    31     51\n",
       "2415               0    49     49\n",
       "1602              47     0     47\n",
       "1740              42     0     42"
      ]
     },
     "execution_count": 62,
     "metadata": {},
     "output_type": "execute_result"
    }
   ],
   "source": [
    "cl = pd.crosstab(train['Capital-Loss'], train['Income_Target'], margins=True)\n",
    "cl.sort_values(by=['All'], ascending=False).head(10)"
   ]
  },
  {
   "cell_type": "markdown",
   "metadata": {},
   "source": [
    "### Capital Gain & Capital Loss Observations\n",
    "* The vast majority (87%) of people don't have any capital gains or losses\n",
    "\n",
    "#### Capital Gains\n",
    "* The breakdown of capital gains is really interesting. It seems like there is more signal here than I'd expect. This is an area where prudent groupings could help improve model predictions. \n",
    "    * I'm surprised that all people with capital gains <3000 (and more than $0) make <50K.\n",
    "    \n",
    "    * 98.6% of people with capital gains >7000 make >50K. \n",
    "    * Between 3,000 and 7,000 there is a mix of people in both income buckets.\n",
    "    * 50% of people with gains between 4,651 and 7,000 make <=50K. However, most levels only have people in on income bucket. For example, \n",
    "        * All 69 people with capital gains of 5,013 make <50K\n",
    "        * All 97 people with capital gains of 5,178 make >50K\n",
    "        * I wonder if capital gain information may be after taxes. Maybe capital gains for people with high incomes are being taxed at a higher rate than the capital gains for people with a lower income. This could help to explain why so many levels seem to be associated with only one income group. I looked for tax rates from the early 1990s when this data is from to see if I could see if applying taxes to a capital gain of $7,500 for example would result in the observations we saw here. I didn't get anything obvious here. \n",
    "    * This is where it would be good to talk with a subject matter expert to see if I could get additional insights into this data\n",
    "    \n",
    "#### Capital Losses\n",
    "* Capital Losses behave fairly similarly to Capital Gains\n",
    "    * People with a small amount of losses are less likely than other people to make >50K.\n",
    "    * Most levels also only have people in one income bucket.\n",
    "* People only have Capital Gains or Losses, there is no overlap between them. "
   ]
  },
  {
   "cell_type": "markdown",
   "metadata": {},
   "source": [
    "## 3.M.  Final Weight\n",
    "Final weight is a continuous variable that sounds like it is used to weight the survey data to try to correct for known sampling biases. "
   ]
  },
  {
   "cell_type": "code",
   "execution_count": 63,
   "metadata": {},
   "outputs": [
    {
     "data": {
      "image/png": "[encoded data removed]",
      "text/plain": [
       "<Figure size 720x360 with 1 Axes>"
      ]
     },
     "metadata": {
      "needs_background": "light"
     },
     "output_type": "display_data"
    }
   ],
   "source": [
    "DistributionGraph('Final-Weight')"
   ]
  },
  {
   "cell_type": "markdown",
   "metadata": {},
   "source": [
    "### Final Weight Observations\n",
    "* I didn't expect this feature to be too helpful, especially when given all the other data that we have. \n",
    "* A quick look suggests that it will be marginally helpful at best"
   ]
  },
  {
   "cell_type": "markdown",
   "metadata": {},
   "source": [
    "# Concluding Thoughts\n",
    "* All of the features in the dataset other than Final-Weight are predictive of income (at a univariate level at least).\n",
    "* Education, Marital Status, and Gender are all very predictive and do a good job of differentiating people. \n",
    "* Grouping smaller levels of features could help reduce the potential of overfitting when modeling. "
   ]
  }
 ],
 "metadata": {
  "kernelspec": {
   "display_name": "Python 3",
   "language": "python",
   "name": "python3"
  },
  "language_info": {
   "codemirror_mode": {
    "name": "ipython",
    "version": 3
   },
   "file_extension": ".py",
   "mimetype": "text/x-python",
   "name": "python",
   "nbconvert_exporter": "python",
   "pygments_lexer": "ipython3",
   "version": "3.7.7"
  }
 },
 "nbformat": 4,
 "nbformat_minor": 2
}
